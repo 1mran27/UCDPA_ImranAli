{
 "cells": [
  {
   "cell_type": "markdown",
   "id": "dcf72465",
   "metadata": {},
   "source": [
    "# Import relevant libraries"
   ]
  },
  {
   "cell_type": "code",
   "execution_count": 1,
   "id": "041ff9aa",
   "metadata": {},
   "outputs": [],
   "source": [
    "import numpy as np\n",
    "import pandas as pd\n",
    "import matplotlib.pyplot as plt\n",
    "import statistics\n",
    "import time"
   ]
  },
  {
   "cell_type": "markdown",
   "id": "3ec71ac9",
   "metadata": {},
   "source": [
    "# Download ticker list and stock price data"
   ]
  },
  {
   "cell_type": "markdown",
   "id": "89dc158b",
   "metadata": {},
   "source": [
    "For this project, data for all stocks in NIFTY50 Index will be used"
   ]
  },
  {
   "cell_type": "code",
   "execution_count": 2,
   "id": "f3358f63",
   "metadata": {
    "scrolled": true
   },
   "outputs": [
    {
     "name": "stdout",
     "output_type": "stream",
     "text": [
      "        Symbol\n",
      "0     ADANIENT\n",
      "1   ADANIPORTS\n",
      "2   APOLLOHOSP\n",
      "3   ASIANPAINT\n",
      "4     AXISBANK\n",
      "5   BAJAJ-AUTO\n",
      "6   BAJFINANCE\n",
      "7   BAJAJFINSV\n",
      "8         BPCL\n",
      "9   BHARTIARTL\n",
      "10   BRITANNIA\n",
      "11       CIPLA\n",
      "12   COALINDIA\n",
      "13    DIVISLAB\n",
      "14     DRREDDY\n",
      "15   EICHERMOT\n",
      "16      GRASIM\n",
      "17     HCLTECH\n",
      "18    HDFCBANK\n",
      "19    HDFCLIFE\n",
      "20  HEROMOTOCO\n",
      "21    HINDALCO\n",
      "22  HINDUNILVR\n",
      "23        HDFC\n",
      "24   ICICIBANK\n",
      "25         ITC\n",
      "26  INDUSINDBK\n",
      "27        INFY\n",
      "28    JSWSTEEL\n",
      "29   KOTAKBANK\n",
      "30          LT\n",
      "31         M&M\n",
      "32      MARUTI\n",
      "33        NTPC\n",
      "34   NESTLEIND\n",
      "35        ONGC\n",
      "36   POWERGRID\n",
      "37    RELIANCE\n",
      "38     SBILIFE\n",
      "39        SBIN\n",
      "40   SUNPHARMA\n",
      "41         TCS\n",
      "42  TATACONSUM\n",
      "43  TATAMOTORS\n",
      "44   TATASTEEL\n",
      "45       TECHM\n",
      "46       TITAN\n",
      "47         UPL\n",
      "48  ULTRACEMCO\n",
      "49       WIPRO\n"
     ]
    }
   ],
   "source": [
    "tickers = pd.read_csv('https://archives.nseindia.com/content/indices/ind_nifty50list.csv',usecols=[\"Symbol\"])\n",
    "print(tickers)"
   ]
  },
  {
   "cell_type": "code",
   "execution_count": null,
   "id": "a1c3319d",
   "metadata": {},
   "outputs": [],
   "source": [
    "for i in range(0,50,5):\n",
    "    for k in range(5):\n",
    "        k=i+k\n",
    "        stock = str(tickers._get_value(k,\"Symbol\"))\n",
    "        #fetch ticker data from alphavantage using API key\n",
    "        url = \"https://www.alphavantage.co/query?function=TIME_SERIES_DAILY_ADJUSTED&symbol=\"+stock+\".BSE&outputsize=full&apikey=RP3WGQYR7V4XW0J7&datatype=csv\"\n",
    "        history = pd.read_csv(url)\n",
    "        file_name = str(stock)+'.csv'\n",
    "        \n",
    "        # saving csv locally\n",
    "        history.to_csv(file_name)\n",
    "        \n",
    "    time.sleep(80)"
   ]
  },
  {
   "cell_type": "markdown",
   "id": "0ff01e6c",
   "metadata": {},
   "source": [
    "Upon data inspection it was found the HDFCLIFE & SBILIFE do not have enough historic data and are not useful for this analysis\n",
    "These tickers are being dropped from the tickers dataframe"
   ]
  },
  {
   "cell_type": "code",
   "execution_count": 3,
   "id": "c687d30b",
   "metadata": {
    "scrolled": true
   },
   "outputs": [
    {
     "name": "stdout",
     "output_type": "stream",
     "text": [
      "        Symbol\n",
      "0     ADANIENT\n",
      "1   ADANIPORTS\n",
      "2   APOLLOHOSP\n",
      "3   ASIANPAINT\n",
      "4     AXISBANK\n",
      "5   BAJAJ-AUTO\n",
      "6   BAJFINANCE\n",
      "7   BAJAJFINSV\n",
      "8         BPCL\n",
      "9   BHARTIARTL\n",
      "10   BRITANNIA\n",
      "11       CIPLA\n",
      "12   COALINDIA\n",
      "13    DIVISLAB\n",
      "14     DRREDDY\n",
      "15   EICHERMOT\n",
      "16      GRASIM\n",
      "17     HCLTECH\n",
      "18    HDFCBANK\n",
      "19  HEROMOTOCO\n",
      "20    HINDALCO\n",
      "21  HINDUNILVR\n",
      "22        HDFC\n",
      "23   ICICIBANK\n",
      "24         ITC\n",
      "25  INDUSINDBK\n",
      "26        INFY\n",
      "27    JSWSTEEL\n",
      "28   KOTAKBANK\n",
      "29          LT\n",
      "30         M&M\n",
      "31      MARUTI\n",
      "32        NTPC\n",
      "33   NESTLEIND\n",
      "34        ONGC\n",
      "35   POWERGRID\n",
      "36    RELIANCE\n",
      "37        SBIN\n",
      "38   SUNPHARMA\n",
      "39         TCS\n",
      "40  TATACONSUM\n",
      "41  TATAMOTORS\n",
      "42   TATASTEEL\n",
      "43       TECHM\n",
      "44       TITAN\n",
      "45         UPL\n",
      "46  ULTRACEMCO\n",
      "47       WIPRO\n"
     ]
    }
   ],
   "source": [
    "tickers = tickers.drop([19, 38])\n",
    "tickers = tickers.reset_index()\n",
    "tickers = tickers.loc[:,['Symbol']]\n",
    "\n",
    "print(tickers)"
   ]
  },
  {
   "cell_type": "code",
   "execution_count": 4,
   "id": "4bc83bb6",
   "metadata": {},
   "outputs": [
    {
     "data": {
      "text/plain": [
       "48"
      ]
     },
     "execution_count": 4,
     "metadata": {},
     "output_type": "execute_result"
    }
   ],
   "source": [
    "tickers.shape[0]"
   ]
  },
  {
   "cell_type": "markdown",
   "id": "55610508",
   "metadata": {},
   "source": [
    "# Check first csv file"
   ]
  },
  {
   "cell_type": "code",
   "execution_count": 71,
   "id": "921b8767",
   "metadata": {
    "scrolled": true
   },
   "outputs": [
    {
     "name": "stdout",
     "output_type": "stream",
     "text": [
      "ADANIENT\n"
     ]
    },
    {
     "data": {
      "text/html": [
       "<div>\n",
       "<style scoped>\n",
       "    .dataframe tbody tr th:only-of-type {\n",
       "        vertical-align: middle;\n",
       "    }\n",
       "\n",
       "    .dataframe tbody tr th {\n",
       "        vertical-align: top;\n",
       "    }\n",
       "\n",
       "    .dataframe thead th {\n",
       "        text-align: right;\n",
       "    }\n",
       "</style>\n",
       "<table border=\"1\" class=\"dataframe\">\n",
       "  <thead>\n",
       "    <tr style=\"text-align: right;\">\n",
       "      <th></th>\n",
       "      <th>Unnamed: 0</th>\n",
       "      <th>timestamp</th>\n",
       "      <th>open</th>\n",
       "      <th>high</th>\n",
       "      <th>low</th>\n",
       "      <th>close</th>\n",
       "      <th>adjusted_close</th>\n",
       "      <th>volume</th>\n",
       "      <th>dividend_amount</th>\n",
       "      <th>split_coefficient</th>\n",
       "    </tr>\n",
       "  </thead>\n",
       "  <tbody>\n",
       "    <tr>\n",
       "      <th>0</th>\n",
       "      <td>0</td>\n",
       "      <td>2022-11-11</td>\n",
       "      <td>4049.0000</td>\n",
       "      <td>4049.0000</td>\n",
       "      <td>3975.0500</td>\n",
       "      <td>4008.7000</td>\n",
       "      <td>4008.7000</td>\n",
       "      <td>78668</td>\n",
       "      <td>0.0</td>\n",
       "      <td>1.0</td>\n",
       "    </tr>\n",
       "    <tr>\n",
       "      <th>1</th>\n",
       "      <td>1</td>\n",
       "      <td>2022-11-10</td>\n",
       "      <td>3997.1499</td>\n",
       "      <td>4028.0000</td>\n",
       "      <td>3962.7500</td>\n",
       "      <td>3992.8999</td>\n",
       "      <td>3992.8999</td>\n",
       "      <td>73105</td>\n",
       "      <td>0.0</td>\n",
       "      <td>1.0</td>\n",
       "    </tr>\n",
       "    <tr>\n",
       "      <th>2</th>\n",
       "      <td>2</td>\n",
       "      <td>2022-11-09</td>\n",
       "      <td>3970.0500</td>\n",
       "      <td>4047.2500</td>\n",
       "      <td>3943.3501</td>\n",
       "      <td>3997.1499</td>\n",
       "      <td>3997.1499</td>\n",
       "      <td>198050</td>\n",
       "      <td>0.0</td>\n",
       "      <td>1.0</td>\n",
       "    </tr>\n",
       "    <tr>\n",
       "      <th>3</th>\n",
       "      <td>3</td>\n",
       "      <td>2022-11-07</td>\n",
       "      <td>3840.1499</td>\n",
       "      <td>4015.0000</td>\n",
       "      <td>3820.6001</td>\n",
       "      <td>3961.1499</td>\n",
       "      <td>3961.1499</td>\n",
       "      <td>231469</td>\n",
       "      <td>0.0</td>\n",
       "      <td>1.0</td>\n",
       "    </tr>\n",
       "    <tr>\n",
       "      <th>4</th>\n",
       "      <td>4</td>\n",
       "      <td>2022-11-04</td>\n",
       "      <td>3630.0000</td>\n",
       "      <td>3850.0000</td>\n",
       "      <td>3566.2000</td>\n",
       "      <td>3832.3501</td>\n",
       "      <td>3832.3501</td>\n",
       "      <td>308319</td>\n",
       "      <td>0.0</td>\n",
       "      <td>1.0</td>\n",
       "    </tr>\n",
       "    <tr>\n",
       "      <th>...</th>\n",
       "      <td>...</td>\n",
       "      <td>...</td>\n",
       "      <td>...</td>\n",
       "      <td>...</td>\n",
       "      <td>...</td>\n",
       "      <td>...</td>\n",
       "      <td>...</td>\n",
       "      <td>...</td>\n",
       "      <td>...</td>\n",
       "      <td>...</td>\n",
       "    </tr>\n",
       "    <tr>\n",
       "      <th>4395</th>\n",
       "      <td>4395</td>\n",
       "      <td>2005-01-07</td>\n",
       "      <td>7.4733</td>\n",
       "      <td>7.4733</td>\n",
       "      <td>7.2110</td>\n",
       "      <td>7.2853</td>\n",
       "      <td>3.3871</td>\n",
       "      <td>1019230</td>\n",
       "      <td>0.0</td>\n",
       "      <td>1.0</td>\n",
       "    </tr>\n",
       "    <tr>\n",
       "      <th>4396</th>\n",
       "      <td>4396</td>\n",
       "      <td>2005-01-06</td>\n",
       "      <td>7.3744</td>\n",
       "      <td>7.4486</td>\n",
       "      <td>6.9982</td>\n",
       "      <td>7.2605</td>\n",
       "      <td>3.3756</td>\n",
       "      <td>1112474</td>\n",
       "      <td>0.0</td>\n",
       "      <td>1.0</td>\n",
       "    </tr>\n",
       "    <tr>\n",
       "      <th>4397</th>\n",
       "      <td>4397</td>\n",
       "      <td>2005-01-05</td>\n",
       "      <td>7.6020</td>\n",
       "      <td>7.6119</td>\n",
       "      <td>7.1269</td>\n",
       "      <td>7.3744</td>\n",
       "      <td>3.4285</td>\n",
       "      <td>1112378</td>\n",
       "      <td>0.0</td>\n",
       "      <td>1.0</td>\n",
       "    </tr>\n",
       "    <tr>\n",
       "      <th>4398</th>\n",
       "      <td>4398</td>\n",
       "      <td>2005-01-04</td>\n",
       "      <td>7.8000</td>\n",
       "      <td>7.8000</td>\n",
       "      <td>7.6020</td>\n",
       "      <td>7.6466</td>\n",
       "      <td>3.5551</td>\n",
       "      <td>1197010</td>\n",
       "      <td>0.0</td>\n",
       "      <td>1.0</td>\n",
       "    </tr>\n",
       "    <tr>\n",
       "      <th>4399</th>\n",
       "      <td>4399</td>\n",
       "      <td>2005-01-03</td>\n",
       "      <td>7.7653</td>\n",
       "      <td>7.8198</td>\n",
       "      <td>7.6367</td>\n",
       "      <td>7.7060</td>\n",
       "      <td>3.5827</td>\n",
       "      <td>1265140</td>\n",
       "      <td>0.0</td>\n",
       "      <td>1.0</td>\n",
       "    </tr>\n",
       "  </tbody>\n",
       "</table>\n",
       "<p>4400 rows × 10 columns</p>\n",
       "</div>"
      ],
      "text/plain": [
       "      Unnamed: 0   timestamp       open       high        low      close  \\\n",
       "0              0  2022-11-11  4049.0000  4049.0000  3975.0500  4008.7000   \n",
       "1              1  2022-11-10  3997.1499  4028.0000  3962.7500  3992.8999   \n",
       "2              2  2022-11-09  3970.0500  4047.2500  3943.3501  3997.1499   \n",
       "3              3  2022-11-07  3840.1499  4015.0000  3820.6001  3961.1499   \n",
       "4              4  2022-11-04  3630.0000  3850.0000  3566.2000  3832.3501   \n",
       "...          ...         ...        ...        ...        ...        ...   \n",
       "4395        4395  2005-01-07     7.4733     7.4733     7.2110     7.2853   \n",
       "4396        4396  2005-01-06     7.3744     7.4486     6.9982     7.2605   \n",
       "4397        4397  2005-01-05     7.6020     7.6119     7.1269     7.3744   \n",
       "4398        4398  2005-01-04     7.8000     7.8000     7.6020     7.6466   \n",
       "4399        4399  2005-01-03     7.7653     7.8198     7.6367     7.7060   \n",
       "\n",
       "      adjusted_close   volume  dividend_amount  split_coefficient  \n",
       "0          4008.7000    78668              0.0                1.0  \n",
       "1          3992.8999    73105              0.0                1.0  \n",
       "2          3997.1499   198050              0.0                1.0  \n",
       "3          3961.1499   231469              0.0                1.0  \n",
       "4          3832.3501   308319              0.0                1.0  \n",
       "...              ...      ...              ...                ...  \n",
       "4395          3.3871  1019230              0.0                1.0  \n",
       "4396          3.3756  1112474              0.0                1.0  \n",
       "4397          3.4285  1112378              0.0                1.0  \n",
       "4398          3.5551  1197010              0.0                1.0  \n",
       "4399          3.5827  1265140              0.0                1.0  \n",
       "\n",
       "[4400 rows x 10 columns]"
      ]
     },
     "metadata": {},
     "output_type": "display_data"
    }
   ],
   "source": [
    "#load first csv file to pandas dataframe and view details\n",
    "stock = str(tickers._get_value(0,\"Symbol\"))\n",
    "print(stock)\n",
    "file_name = str(stock)+'.csv'\n",
    "ticker = pd.read_csv(file_name)\n",
    "\n",
    "display(ticker)"
   ]
  },
  {
   "cell_type": "code",
   "execution_count": 6,
   "id": "d4257f3a",
   "metadata": {
    "scrolled": true
   },
   "outputs": [
    {
     "name": "stdout",
     "output_type": "stream",
     "text": [
      "<class 'pandas.core.frame.DataFrame'>\n",
      "RangeIndex: 4400 entries, 0 to 4399\n",
      "Data columns (total 10 columns):\n",
      " #   Column             Non-Null Count  Dtype  \n",
      "---  ------             --------------  -----  \n",
      " 0   Unnamed: 0         4400 non-null   int64  \n",
      " 1   timestamp          4400 non-null   object \n",
      " 2   open               4400 non-null   float64\n",
      " 3   high               4400 non-null   float64\n",
      " 4   low                4400 non-null   float64\n",
      " 5   close              4400 non-null   float64\n",
      " 6   adjusted_close     4400 non-null   float64\n",
      " 7   volume             4400 non-null   int64  \n",
      " 8   dividend_amount    4400 non-null   float64\n",
      " 9   split_coefficient  4400 non-null   float64\n",
      "dtypes: float64(7), int64(2), object(1)\n",
      "memory usage: 343.9+ KB\n"
     ]
    }
   ],
   "source": [
    "#check datatypes\n",
    "ticker.info()"
   ]
  },
  {
   "cell_type": "code",
   "execution_count": 7,
   "id": "999f093d",
   "metadata": {
    "scrolled": false
   },
   "outputs": [
    {
     "data": {
      "text/plain": [
       "Unnamed: 0           0\n",
       "timestamp            0\n",
       "open                 0\n",
       "high                 0\n",
       "low                  0\n",
       "close                0\n",
       "adjusted_close       0\n",
       "volume               0\n",
       "dividend_amount      0\n",
       "split_coefficient    0\n",
       "dtype: int64"
      ]
     },
     "execution_count": 7,
     "metadata": {},
     "output_type": "execute_result"
    }
   ],
   "source": [
    "#check for any null values\n",
    "ticker.isnull().sum()"
   ]
  },
  {
   "cell_type": "markdown",
   "id": "0207cff6",
   "metadata": {},
   "source": [
    "# Cleaning & Visualing stock price data"
   ]
  },
  {
   "cell_type": "code",
   "execution_count": 72,
   "id": "0335410f",
   "metadata": {},
   "outputs": [
    {
     "data": {
      "text/html": [
       "<div>\n",
       "<style scoped>\n",
       "    .dataframe tbody tr th:only-of-type {\n",
       "        vertical-align: middle;\n",
       "    }\n",
       "\n",
       "    .dataframe tbody tr th {\n",
       "        vertical-align: top;\n",
       "    }\n",
       "\n",
       "    .dataframe thead th {\n",
       "        text-align: right;\n",
       "    }\n",
       "</style>\n",
       "<table border=\"1\" class=\"dataframe\">\n",
       "  <thead>\n",
       "    <tr style=\"text-align: right;\">\n",
       "      <th></th>\n",
       "      <th>Symbol</th>\n",
       "      <th>Close</th>\n",
       "    </tr>\n",
       "    <tr>\n",
       "      <th>timestamp</th>\n",
       "      <th></th>\n",
       "      <th></th>\n",
       "    </tr>\n",
       "  </thead>\n",
       "  <tbody>\n",
       "    <tr>\n",
       "      <th>2005-01-03</th>\n",
       "      <td>ADANIENT</td>\n",
       "      <td>3.5827</td>\n",
       "    </tr>\n",
       "    <tr>\n",
       "      <th>2005-01-04</th>\n",
       "      <td>ADANIENT</td>\n",
       "      <td>3.5551</td>\n",
       "    </tr>\n",
       "    <tr>\n",
       "      <th>2005-01-05</th>\n",
       "      <td>ADANIENT</td>\n",
       "      <td>3.4285</td>\n",
       "    </tr>\n",
       "    <tr>\n",
       "      <th>2005-01-06</th>\n",
       "      <td>ADANIENT</td>\n",
       "      <td>3.3756</td>\n",
       "    </tr>\n",
       "    <tr>\n",
       "      <th>2005-01-07</th>\n",
       "      <td>ADANIENT</td>\n",
       "      <td>3.3871</td>\n",
       "    </tr>\n",
       "    <tr>\n",
       "      <th>...</th>\n",
       "      <td>...</td>\n",
       "      <td>...</td>\n",
       "    </tr>\n",
       "    <tr>\n",
       "      <th>2022-11-04</th>\n",
       "      <td>ADANIENT</td>\n",
       "      <td>3832.3501</td>\n",
       "    </tr>\n",
       "    <tr>\n",
       "      <th>2022-11-07</th>\n",
       "      <td>ADANIENT</td>\n",
       "      <td>3961.1499</td>\n",
       "    </tr>\n",
       "    <tr>\n",
       "      <th>2022-11-09</th>\n",
       "      <td>ADANIENT</td>\n",
       "      <td>3997.1499</td>\n",
       "    </tr>\n",
       "    <tr>\n",
       "      <th>2022-11-10</th>\n",
       "      <td>ADANIENT</td>\n",
       "      <td>3992.8999</td>\n",
       "    </tr>\n",
       "    <tr>\n",
       "      <th>2022-11-11</th>\n",
       "      <td>ADANIENT</td>\n",
       "      <td>4008.7000</td>\n",
       "    </tr>\n",
       "  </tbody>\n",
       "</table>\n",
       "<p>4400 rows × 2 columns</p>\n",
       "</div>"
      ],
      "text/plain": [
       "              Symbol      Close\n",
       "timestamp                      \n",
       "2005-01-03  ADANIENT     3.5827\n",
       "2005-01-04  ADANIENT     3.5551\n",
       "2005-01-05  ADANIENT     3.4285\n",
       "2005-01-06  ADANIENT     3.3756\n",
       "2005-01-07  ADANIENT     3.3871\n",
       "...              ...        ...\n",
       "2022-11-04  ADANIENT  3832.3501\n",
       "2022-11-07  ADANIENT  3961.1499\n",
       "2022-11-09  ADANIENT  3997.1499\n",
       "2022-11-10  ADANIENT  3992.8999\n",
       "2022-11-11  ADANIENT  4008.7000\n",
       "\n",
       "[4400 rows x 2 columns]"
      ]
     },
     "metadata": {},
     "output_type": "display_data"
    }
   ],
   "source": [
    "#add ticker symbol to the dataframe\n",
    "ticker['Symbol']= stock\n",
    "\n",
    "#convert timestamp column to datetime type\n",
    "ticker['timestamp'] = pd.to_datetime(ticker['timestamp'])\n",
    "\n",
    "        \n",
    "#change index to timestamp\n",
    "ticker.set_index('timestamp', inplace=True)\n",
    "\n",
    "#Select & rename columns relevant for this analysis\n",
    "ticker = ticker.loc[:,['Symbol', 'adjusted_close']]\n",
    "ticker.rename(columns = {'adjusted_close':'Close'}, inplace = True)\n",
    "\n",
    "#flip dataframe to get earliest date first\n",
    "ticker = ticker.iloc[::-1]\n",
    "display(ticker)"
   ]
  },
  {
   "cell_type": "code",
   "execution_count": 9,
   "id": "9e4df8d8",
   "metadata": {},
   "outputs": [
    {
     "data": {
      "text/plain": [
       "<AxesSubplot:xlabel='timestamp'>"
      ]
     },
     "execution_count": 9,
     "metadata": {},
     "output_type": "execute_result"
    },
    {
     "data": {
      "image/png": "[encoded data removed]",
      "text/plain": [
       "<Figure size 432x288 with 1 Axes>"
      ]
     },
     "metadata": {
      "needs_background": "light"
     },
     "output_type": "display_data"
    }
   ],
   "source": [
    "#Plot closing prices as a line chart\n",
    "ticker.plot.line(y=\"Close\", use_index = True)"
   ]
  },
  {
   "cell_type": "code",
   "execution_count": 10,
   "id": "024362dd",
   "metadata": {},
   "outputs": [
    {
     "data": {
      "image/png": "[encoded data removed]",
      "text/plain": [
       "<Figure size 432x288 with 1 Axes>"
      ]
     },
     "metadata": {
      "needs_background": "light"
     },
     "output_type": "display_data"
    }
   ],
   "source": [
    "# Zoom into 2020's as stock price was relatively flat till then\n",
    "ticker20s = ticker['2020-01-01' :'2022-12-31']\n",
    "\n",
    "#Plot closing prices for this decade\n",
    "fig, ax = plt.subplots()\n",
    "ax.plot(ticker20s.index,ticker20s['Close'], color='blue')\n",
    "ax.set_xlabel('Current Decade')\n",
    "ax.set_ylabel('Closing price')\n",
    "plt.show()"
   ]
  },
  {
   "cell_type": "code",
   "execution_count": 73,
   "id": "b1561788",
   "metadata": {
    "scrolled": false
   },
   "outputs": [
    {
     "data": {
      "text/html": [
       "<div>\n",
       "<style scoped>\n",
       "    .dataframe tbody tr th:only-of-type {\n",
       "        vertical-align: middle;\n",
       "    }\n",
       "\n",
       "    .dataframe tbody tr th {\n",
       "        vertical-align: top;\n",
       "    }\n",
       "\n",
       "    .dataframe thead th {\n",
       "        text-align: right;\n",
       "    }\n",
       "</style>\n",
       "<table border=\"1\" class=\"dataframe\">\n",
       "  <thead>\n",
       "    <tr style=\"text-align: right;\">\n",
       "      <th></th>\n",
       "      <th>Symbol</th>\n",
       "      <th>Close</th>\n",
       "      <th>Prev_close</th>\n",
       "      <th>30SMA</th>\n",
       "      <th>40SMA</th>\n",
       "      <th>50SMA</th>\n",
       "      <th>60SMA</th>\n",
       "      <th>Std Dev</th>\n",
       "      <th>Nxt60</th>\n",
       "      <th>Nxt60%Diff</th>\n",
       "      <th>60Max</th>\n",
       "      <th>Max%Diff</th>\n",
       "      <th>Target</th>\n",
       "    </tr>\n",
       "    <tr>\n",
       "      <th>timestamp</th>\n",
       "      <th></th>\n",
       "      <th></th>\n",
       "      <th></th>\n",
       "      <th></th>\n",
       "      <th></th>\n",
       "      <th></th>\n",
       "      <th></th>\n",
       "      <th></th>\n",
       "      <th></th>\n",
       "      <th></th>\n",
       "      <th></th>\n",
       "      <th></th>\n",
       "      <th></th>\n",
       "    </tr>\n",
       "  </thead>\n",
       "  <tbody>\n",
       "    <tr>\n",
       "      <th>2005-01-03</th>\n",
       "      <td>ADANIENT</td>\n",
       "      <td>3.5827</td>\n",
       "      <td>NaN</td>\n",
       "      <td>NaN</td>\n",
       "      <td>NaN</td>\n",
       "      <td>NaN</td>\n",
       "      <td>NaN</td>\n",
       "      <td>NaN</td>\n",
       "      <td>2.7497</td>\n",
       "      <td>-0.232506</td>\n",
       "      <td>NaN</td>\n",
       "      <td>0.0</td>\n",
       "      <td>0</td>\n",
       "    </tr>\n",
       "    <tr>\n",
       "      <th>2005-01-04</th>\n",
       "      <td>ADANIENT</td>\n",
       "      <td>3.5551</td>\n",
       "      <td>3.5827</td>\n",
       "      <td>NaN</td>\n",
       "      <td>NaN</td>\n",
       "      <td>NaN</td>\n",
       "      <td>NaN</td>\n",
       "      <td>NaN</td>\n",
       "      <td>2.7612</td>\n",
       "      <td>-0.223313</td>\n",
       "      <td>NaN</td>\n",
       "      <td>0.0</td>\n",
       "      <td>0</td>\n",
       "    </tr>\n",
       "    <tr>\n",
       "      <th>2005-01-05</th>\n",
       "      <td>ADANIENT</td>\n",
       "      <td>3.4285</td>\n",
       "      <td>3.5551</td>\n",
       "      <td>NaN</td>\n",
       "      <td>NaN</td>\n",
       "      <td>NaN</td>\n",
       "      <td>NaN</td>\n",
       "      <td>NaN</td>\n",
       "      <td>2.7543</td>\n",
       "      <td>-0.196646</td>\n",
       "      <td>NaN</td>\n",
       "      <td>0.0</td>\n",
       "      <td>0</td>\n",
       "    </tr>\n",
       "    <tr>\n",
       "      <th>2005-01-06</th>\n",
       "      <td>ADANIENT</td>\n",
       "      <td>3.3756</td>\n",
       "      <td>3.4285</td>\n",
       "      <td>NaN</td>\n",
       "      <td>NaN</td>\n",
       "      <td>NaN</td>\n",
       "      <td>NaN</td>\n",
       "      <td>NaN</td>\n",
       "      <td>2.7290</td>\n",
       "      <td>-0.191551</td>\n",
       "      <td>NaN</td>\n",
       "      <td>0.0</td>\n",
       "      <td>0</td>\n",
       "    </tr>\n",
       "    <tr>\n",
       "      <th>2005-01-07</th>\n",
       "      <td>ADANIENT</td>\n",
       "      <td>3.3871</td>\n",
       "      <td>3.3756</td>\n",
       "      <td>NaN</td>\n",
       "      <td>NaN</td>\n",
       "      <td>NaN</td>\n",
       "      <td>NaN</td>\n",
       "      <td>NaN</td>\n",
       "      <td>2.7451</td>\n",
       "      <td>-0.189543</td>\n",
       "      <td>NaN</td>\n",
       "      <td>0.0</td>\n",
       "      <td>0</td>\n",
       "    </tr>\n",
       "    <tr>\n",
       "      <th>...</th>\n",
       "      <td>...</td>\n",
       "      <td>...</td>\n",
       "      <td>...</td>\n",
       "      <td>...</td>\n",
       "      <td>...</td>\n",
       "      <td>...</td>\n",
       "      <td>...</td>\n",
       "      <td>...</td>\n",
       "      <td>...</td>\n",
       "      <td>...</td>\n",
       "      <td>...</td>\n",
       "      <td>...</td>\n",
       "      <td>...</td>\n",
       "    </tr>\n",
       "    <tr>\n",
       "      <th>2022-11-04</th>\n",
       "      <td>ADANIENT</td>\n",
       "      <td>3832.3501</td>\n",
       "      <td>3591.1001</td>\n",
       "      <td>3386.356670</td>\n",
       "      <td>3440.801242</td>\n",
       "      <td>3394.148996</td>\n",
       "      <td>3317.338335</td>\n",
       "      <td>50.914849</td>\n",
       "      <td>NaN</td>\n",
       "      <td>0.000000</td>\n",
       "      <td>NaN</td>\n",
       "      <td>0.0</td>\n",
       "      <td>0</td>\n",
       "    </tr>\n",
       "    <tr>\n",
       "      <th>2022-11-07</th>\n",
       "      <td>ADANIENT</td>\n",
       "      <td>3961.1499</td>\n",
       "      <td>3832.3501</td>\n",
       "      <td>3392.720007</td>\n",
       "      <td>3449.763743</td>\n",
       "      <td>3410.323000</td>\n",
       "      <td>3336.250835</td>\n",
       "      <td>47.152287</td>\n",
       "      <td>NaN</td>\n",
       "      <td>0.000000</td>\n",
       "      <td>NaN</td>\n",
       "      <td>0.0</td>\n",
       "      <td>0</td>\n",
       "    </tr>\n",
       "    <tr>\n",
       "      <th>2022-11-09</th>\n",
       "      <td>ADANIENT</td>\n",
       "      <td>3997.1499</td>\n",
       "      <td>3961.1499</td>\n",
       "      <td>3400.868337</td>\n",
       "      <td>3462.243740</td>\n",
       "      <td>3426.813996</td>\n",
       "      <td>3355.730832</td>\n",
       "      <td>44.842869</td>\n",
       "      <td>NaN</td>\n",
       "      <td>0.000000</td>\n",
       "      <td>NaN</td>\n",
       "      <td>0.0</td>\n",
       "      <td>0</td>\n",
       "    </tr>\n",
       "    <tr>\n",
       "      <th>2022-11-10</th>\n",
       "      <td>ADANIENT</td>\n",
       "      <td>3992.8999</td>\n",
       "      <td>3997.1499</td>\n",
       "      <td>3411.643337</td>\n",
       "      <td>3475.906240</td>\n",
       "      <td>3445.420994</td>\n",
       "      <td>3375.235828</td>\n",
       "      <td>43.383942</td>\n",
       "      <td>NaN</td>\n",
       "      <td>0.000000</td>\n",
       "      <td>NaN</td>\n",
       "      <td>0.0</td>\n",
       "      <td>0</td>\n",
       "    </tr>\n",
       "    <tr>\n",
       "      <th>2022-11-11</th>\n",
       "      <td>ADANIENT</td>\n",
       "      <td>4008.7000</td>\n",
       "      <td>3992.8999</td>\n",
       "      <td>3425.081667</td>\n",
       "      <td>3489.194985</td>\n",
       "      <td>3462.489992</td>\n",
       "      <td>3394.563327</td>\n",
       "      <td>41.556797</td>\n",
       "      <td>NaN</td>\n",
       "      <td>0.000000</td>\n",
       "      <td>NaN</td>\n",
       "      <td>0.0</td>\n",
       "      <td>0</td>\n",
       "    </tr>\n",
       "  </tbody>\n",
       "</table>\n",
       "<p>4400 rows × 13 columns</p>\n",
       "</div>"
      ],
      "text/plain": [
       "              Symbol      Close  Prev_close        30SMA        40SMA  \\\n",
       "timestamp                                                               \n",
       "2005-01-03  ADANIENT     3.5827         NaN          NaN          NaN   \n",
       "2005-01-04  ADANIENT     3.5551      3.5827          NaN          NaN   \n",
       "2005-01-05  ADANIENT     3.4285      3.5551          NaN          NaN   \n",
       "2005-01-06  ADANIENT     3.3756      3.4285          NaN          NaN   \n",
       "2005-01-07  ADANIENT     3.3871      3.3756          NaN          NaN   \n",
       "...              ...        ...         ...          ...          ...   \n",
       "2022-11-04  ADANIENT  3832.3501   3591.1001  3386.356670  3440.801242   \n",
       "2022-11-07  ADANIENT  3961.1499   3832.3501  3392.720007  3449.763743   \n",
       "2022-11-09  ADANIENT  3997.1499   3961.1499  3400.868337  3462.243740   \n",
       "2022-11-10  ADANIENT  3992.8999   3997.1499  3411.643337  3475.906240   \n",
       "2022-11-11  ADANIENT  4008.7000   3992.8999  3425.081667  3489.194985   \n",
       "\n",
       "                  50SMA        60SMA    Std Dev   Nxt60  Nxt60%Diff  60Max  \\\n",
       "timestamp                                                                    \n",
       "2005-01-03          NaN          NaN        NaN  2.7497   -0.232506    NaN   \n",
       "2005-01-04          NaN          NaN        NaN  2.7612   -0.223313    NaN   \n",
       "2005-01-05          NaN          NaN        NaN  2.7543   -0.196646    NaN   \n",
       "2005-01-06          NaN          NaN        NaN  2.7290   -0.191551    NaN   \n",
       "2005-01-07          NaN          NaN        NaN  2.7451   -0.189543    NaN   \n",
       "...                 ...          ...        ...     ...         ...    ...   \n",
       "2022-11-04  3394.148996  3317.338335  50.914849     NaN    0.000000    NaN   \n",
       "2022-11-07  3410.323000  3336.250835  47.152287     NaN    0.000000    NaN   \n",
       "2022-11-09  3426.813996  3355.730832  44.842869     NaN    0.000000    NaN   \n",
       "2022-11-10  3445.420994  3375.235828  43.383942     NaN    0.000000    NaN   \n",
       "2022-11-11  3462.489992  3394.563327  41.556797     NaN    0.000000    NaN   \n",
       "\n",
       "            Max%Diff  Target  \n",
       "timestamp                     \n",
       "2005-01-03       0.0       0  \n",
       "2005-01-04       0.0       0  \n",
       "2005-01-05       0.0       0  \n",
       "2005-01-06       0.0       0  \n",
       "2005-01-07       0.0       0  \n",
       "...              ...     ...  \n",
       "2022-11-04       0.0       0  \n",
       "2022-11-07       0.0       0  \n",
       "2022-11-09       0.0       0  \n",
       "2022-11-10       0.0       0  \n",
       "2022-11-11       0.0       0  \n",
       "\n",
       "[4400 rows x 13 columns]"
      ]
     },
     "metadata": {},
     "output_type": "display_data"
    }
   ],
   "source": [
    "#Add a column depicting previous day's closing price\n",
    "\n",
    "ticker['Prev_close'] = ticker.loc[:,'Close'].shift(1)\n",
    "  \n",
    "#Add simple moving average columns for periods of 30,40,50 & 60 days\n",
    "#SMA to be calculated on prvious day's closing price to avoid any data leakage\n",
    "\n",
    "ticker['30SMA'] = ticker['Prev_close'].rolling(30).mean()\n",
    "ticker['40SMA'] = ticker['Prev_close'].rolling(40).mean()\n",
    "ticker['50SMA'] = ticker['Prev_close'].rolling(50).mean()\n",
    "ticker['60SMA'] = ticker['Prev_close'].rolling(60).mean()\n",
    "  \n",
    "#Calculate Standard deviation for these SMA columns to understand if this stock has been trading flat\n",
    "#(consolidating) or not. A lower Std Dev value would indicate less fluctuation in stock price.\n",
    "\n",
    "ticker['Std Dev'] = ticker.loc[:,['30SMA','40SMA','50SMA','60SMA']].std(axis=1)\n",
    "    \n",
    "#Add a column depicting closing price 60 days in future\n",
    "\n",
    "ticker['Nxt60'] = ticker.loc[:,'Close'].shift(-60)\n",
    "\n",
    "#Calculate the percentage difference between current and closing price in next 60 days\n",
    "\n",
    "ticker['Nxt60%Diff'] = ticker[['Close','Nxt60']].pct_change(axis=1)['Nxt60']\n",
    "\n",
    "#Add a column depicting maximum closing price in the next 60 days\n",
    "\n",
    "ticker['60Max'] = ticker['Nxt60'].rolling(60).max() \n",
    "   \n",
    "#Calculate the percentage difference between current and max closing price in next 60 days\n",
    "\n",
    "ticker['Max%Diff'] = ticker[['Close','60Max']].pct_change(axis=1)['60Max']\n",
    "\n",
    "#Check whether price increased more than 5% or not\n",
    "ticker['Target'] = np.where(ticker['Max%Diff']> 0.05,1,0)\n",
    "    \n",
    "display(ticker)"
   ]
  },
  {
   "cell_type": "code",
   "execution_count": 12,
   "id": "9c67415a",
   "metadata": {
    "scrolled": true
   },
   "outputs": [
    {
     "data": {
      "image/png": "[encoded data removed]",
      "text/plain": [
       "<Figure size 432x288 with 1 Axes>"
      ]
     },
     "metadata": {
      "needs_background": "light"
     },
     "output_type": "display_data"
    }
   ],
   "source": [
    "# plot moving averages for current year along with closing price on a chart\n",
    "\n",
    "ticker22 = ticker['2022-01-01' :'2022-12-31']\n",
    "\n",
    "fig, ax = plt.subplots()\n",
    "ax.plot(ticker22.index,ticker22['Prev_close'], color='blue')\n",
    "ax.plot(ticker22.index,ticker22['30SMA'], color='red')\n",
    "ax.plot(ticker22.index,ticker22['40SMA'], color='green')\n",
    "ax.plot(ticker22.index,ticker22['50SMA'], color='orange')\n",
    "ax.plot(ticker22.index,ticker22['60SMA'], color='purple')\n",
    "plt.show()"
   ]
  },
  {
   "cell_type": "code",
   "execution_count": 74,
   "id": "e9965d22",
   "metadata": {
    "scrolled": true
   },
   "outputs": [
    {
     "data": {
      "text/html": [
       "<div>\n",
       "<style scoped>\n",
       "    .dataframe tbody tr th:only-of-type {\n",
       "        vertical-align: middle;\n",
       "    }\n",
       "\n",
       "    .dataframe tbody tr th {\n",
       "        vertical-align: top;\n",
       "    }\n",
       "\n",
       "    .dataframe thead th {\n",
       "        text-align: right;\n",
       "    }\n",
       "</style>\n",
       "<table border=\"1\" class=\"dataframe\">\n",
       "  <thead>\n",
       "    <tr style=\"text-align: right;\">\n",
       "      <th></th>\n",
       "      <th>Symbol</th>\n",
       "      <th>Close</th>\n",
       "      <th>Prev_close</th>\n",
       "      <th>30SMA</th>\n",
       "      <th>40SMA</th>\n",
       "      <th>50SMA</th>\n",
       "      <th>60SMA</th>\n",
       "      <th>Std Dev</th>\n",
       "      <th>Nxt60</th>\n",
       "      <th>Nxt60%Diff</th>\n",
       "      <th>60Max</th>\n",
       "      <th>Max%Diff</th>\n",
       "      <th>Target</th>\n",
       "    </tr>\n",
       "    <tr>\n",
       "      <th>timestamp</th>\n",
       "      <th></th>\n",
       "      <th></th>\n",
       "      <th></th>\n",
       "      <th></th>\n",
       "      <th></th>\n",
       "      <th></th>\n",
       "      <th></th>\n",
       "      <th></th>\n",
       "      <th></th>\n",
       "      <th></th>\n",
       "      <th></th>\n",
       "      <th></th>\n",
       "      <th></th>\n",
       "    </tr>\n",
       "  </thead>\n",
       "  <tbody>\n",
       "    <tr>\n",
       "      <th>2005-03-31</th>\n",
       "      <td>ADANIENT</td>\n",
       "      <td>2.7497</td>\n",
       "      <td>2.7451</td>\n",
       "      <td>3.341027</td>\n",
       "      <td>3.397652</td>\n",
       "      <td>3.389656</td>\n",
       "      <td>3.393105</td>\n",
       "      <td>0.026426</td>\n",
       "      <td>2.9614</td>\n",
       "      <td>0.076990</td>\n",
       "      <td>3.0420</td>\n",
       "      <td>0.106303</td>\n",
       "      <td>1</td>\n",
       "    </tr>\n",
       "    <tr>\n",
       "      <th>2005-04-01</th>\n",
       "      <td>ADANIENT</td>\n",
       "      <td>2.7612</td>\n",
       "      <td>2.7497</td>\n",
       "      <td>3.315177</td>\n",
       "      <td>3.379128</td>\n",
       "      <td>3.378794</td>\n",
       "      <td>3.379222</td>\n",
       "      <td>0.031936</td>\n",
       "      <td>2.9430</td>\n",
       "      <td>0.065841</td>\n",
       "      <td>3.0420</td>\n",
       "      <td>0.101695</td>\n",
       "      <td>1</td>\n",
       "    </tr>\n",
       "    <tr>\n",
       "      <th>2005-04-04</th>\n",
       "      <td>ADANIENT</td>\n",
       "      <td>2.7543</td>\n",
       "      <td>2.7612</td>\n",
       "      <td>3.290937</td>\n",
       "      <td>3.359625</td>\n",
       "      <td>3.367518</td>\n",
       "      <td>3.365990</td>\n",
       "      <td>0.036879</td>\n",
       "      <td>2.9016</td>\n",
       "      <td>0.053480</td>\n",
       "      <td>3.0420</td>\n",
       "      <td>0.104455</td>\n",
       "      <td>1</td>\n",
       "    </tr>\n",
       "    <tr>\n",
       "      <th>2005-04-05</th>\n",
       "      <td>ADANIENT</td>\n",
       "      <td>2.7290</td>\n",
       "      <td>2.7543</td>\n",
       "      <td>3.266773</td>\n",
       "      <td>3.340640</td>\n",
       "      <td>3.356196</td>\n",
       "      <td>3.354753</td>\n",
       "      <td>0.042462</td>\n",
       "      <td>2.8832</td>\n",
       "      <td>0.056504</td>\n",
       "      <td>3.0420</td>\n",
       "      <td>0.114694</td>\n",
       "      <td>1</td>\n",
       "    </tr>\n",
       "    <tr>\n",
       "      <th>2005-04-06</th>\n",
       "      <td>ADANIENT</td>\n",
       "      <td>2.7451</td>\n",
       "      <td>2.7290</td>\n",
       "      <td>3.242227</td>\n",
       "      <td>3.322057</td>\n",
       "      <td>3.345150</td>\n",
       "      <td>3.343977</td>\n",
       "      <td>0.048592</td>\n",
       "      <td>2.8809</td>\n",
       "      <td>0.049470</td>\n",
       "      <td>3.0420</td>\n",
       "      <td>0.108156</td>\n",
       "      <td>1</td>\n",
       "    </tr>\n",
       "    <tr>\n",
       "      <th>...</th>\n",
       "      <td>...</td>\n",
       "      <td>...</td>\n",
       "      <td>...</td>\n",
       "      <td>...</td>\n",
       "      <td>...</td>\n",
       "      <td>...</td>\n",
       "      <td>...</td>\n",
       "      <td>...</td>\n",
       "      <td>...</td>\n",
       "      <td>...</td>\n",
       "      <td>...</td>\n",
       "      <td>...</td>\n",
       "      <td>...</td>\n",
       "    </tr>\n",
       "    <tr>\n",
       "      <th>2022-08-05</th>\n",
       "      <td>ADANIENT</td>\n",
       "      <td>2697.6001</td>\n",
       "      <td>2723.2000</td>\n",
       "      <td>2409.280217</td>\n",
       "      <td>2338.860212</td>\n",
       "      <td>2307.076758</td>\n",
       "      <td>2277.670448</td>\n",
       "      <td>56.527841</td>\n",
       "      <td>3832.3501</td>\n",
       "      <td>0.420652</td>\n",
       "      <td>3835.8000</td>\n",
       "      <td>0.421931</td>\n",
       "      <td>1</td>\n",
       "    </tr>\n",
       "    <tr>\n",
       "      <th>2022-08-08</th>\n",
       "      <td>ADANIENT</td>\n",
       "      <td>2792.3501</td>\n",
       "      <td>2697.6001</td>\n",
       "      <td>2427.180847</td>\n",
       "      <td>2351.294858</td>\n",
       "      <td>2319.444444</td>\n",
       "      <td>2288.394177</td>\n",
       "      <td>59.555730</td>\n",
       "      <td>3961.1499</td>\n",
       "      <td>0.418572</td>\n",
       "      <td>3961.1499</td>\n",
       "      <td>0.418572</td>\n",
       "      <td>1</td>\n",
       "    </tr>\n",
       "    <tr>\n",
       "      <th>2022-08-10</th>\n",
       "      <td>ADANIENT</td>\n",
       "      <td>2826.8501</td>\n",
       "      <td>2792.3501</td>\n",
       "      <td>2447.576760</td>\n",
       "      <td>2369.089480</td>\n",
       "      <td>2331.996858</td>\n",
       "      <td>2299.830773</td>\n",
       "      <td>63.610227</td>\n",
       "      <td>3997.1499</td>\n",
       "      <td>0.413994</td>\n",
       "      <td>3997.1499</td>\n",
       "      <td>0.413994</td>\n",
       "      <td>1</td>\n",
       "    </tr>\n",
       "    <tr>\n",
       "      <th>2022-08-11</th>\n",
       "      <td>ADANIENT</td>\n",
       "      <td>2833.2500</td>\n",
       "      <td>2826.8501</td>\n",
       "      <td>2468.336340</td>\n",
       "      <td>2384.871575</td>\n",
       "      <td>2345.197290</td>\n",
       "      <td>2310.552085</td>\n",
       "      <td>67.898938</td>\n",
       "      <td>3992.8999</td>\n",
       "      <td>0.409300</td>\n",
       "      <td>3997.1499</td>\n",
       "      <td>0.410800</td>\n",
       "      <td>1</td>\n",
       "    </tr>\n",
       "    <tr>\n",
       "      <th>2022-08-12</th>\n",
       "      <td>ADANIENT</td>\n",
       "      <td>2864.3501</td>\n",
       "      <td>2833.2500</td>\n",
       "      <td>2488.782807</td>\n",
       "      <td>2401.118538</td>\n",
       "      <td>2358.864576</td>\n",
       "      <td>2321.465025</td>\n",
       "      <td>71.930416</td>\n",
       "      <td>4008.7000</td>\n",
       "      <td>0.399515</td>\n",
       "      <td>4008.7000</td>\n",
       "      <td>0.399515</td>\n",
       "      <td>1</td>\n",
       "    </tr>\n",
       "  </tbody>\n",
       "</table>\n",
       "<p>4280 rows × 13 columns</p>\n",
       "</div>"
      ],
      "text/plain": [
       "              Symbol      Close  Prev_close        30SMA        40SMA  \\\n",
       "timestamp                                                               \n",
       "2005-03-31  ADANIENT     2.7497      2.7451     3.341027     3.397652   \n",
       "2005-04-01  ADANIENT     2.7612      2.7497     3.315177     3.379128   \n",
       "2005-04-04  ADANIENT     2.7543      2.7612     3.290937     3.359625   \n",
       "2005-04-05  ADANIENT     2.7290      2.7543     3.266773     3.340640   \n",
       "2005-04-06  ADANIENT     2.7451      2.7290     3.242227     3.322057   \n",
       "...              ...        ...         ...          ...          ...   \n",
       "2022-08-05  ADANIENT  2697.6001   2723.2000  2409.280217  2338.860212   \n",
       "2022-08-08  ADANIENT  2792.3501   2697.6001  2427.180847  2351.294858   \n",
       "2022-08-10  ADANIENT  2826.8501   2792.3501  2447.576760  2369.089480   \n",
       "2022-08-11  ADANIENT  2833.2500   2826.8501  2468.336340  2384.871575   \n",
       "2022-08-12  ADANIENT  2864.3501   2833.2500  2488.782807  2401.118538   \n",
       "\n",
       "                  50SMA        60SMA    Std Dev      Nxt60  Nxt60%Diff  \\\n",
       "timestamp                                                                \n",
       "2005-03-31     3.389656     3.393105   0.026426     2.9614    0.076990   \n",
       "2005-04-01     3.378794     3.379222   0.031936     2.9430    0.065841   \n",
       "2005-04-04     3.367518     3.365990   0.036879     2.9016    0.053480   \n",
       "2005-04-05     3.356196     3.354753   0.042462     2.8832    0.056504   \n",
       "2005-04-06     3.345150     3.343977   0.048592     2.8809    0.049470   \n",
       "...                 ...          ...        ...        ...         ...   \n",
       "2022-08-05  2307.076758  2277.670448  56.527841  3832.3501    0.420652   \n",
       "2022-08-08  2319.444444  2288.394177  59.555730  3961.1499    0.418572   \n",
       "2022-08-10  2331.996858  2299.830773  63.610227  3997.1499    0.413994   \n",
       "2022-08-11  2345.197290  2310.552085  67.898938  3992.8999    0.409300   \n",
       "2022-08-12  2358.864576  2321.465025  71.930416  4008.7000    0.399515   \n",
       "\n",
       "                60Max  Max%Diff  Target  \n",
       "timestamp                                \n",
       "2005-03-31     3.0420  0.106303       1  \n",
       "2005-04-01     3.0420  0.101695       1  \n",
       "2005-04-04     3.0420  0.104455       1  \n",
       "2005-04-05     3.0420  0.114694       1  \n",
       "2005-04-06     3.0420  0.108156       1  \n",
       "...               ...       ...     ...  \n",
       "2022-08-05  3835.8000  0.421931       1  \n",
       "2022-08-08  3961.1499  0.418572       1  \n",
       "2022-08-10  3997.1499  0.413994       1  \n",
       "2022-08-11  3997.1499  0.410800       1  \n",
       "2022-08-12  4008.7000  0.399515       1  \n",
       "\n",
       "[4280 rows x 13 columns]"
      ]
     },
     "metadata": {},
     "output_type": "display_data"
    }
   ],
   "source": [
    "#drop rows with blanks to get a clean dataset\n",
    "ticker = ticker.dropna()\n",
    "display(ticker)"
   ]
  },
  {
   "cell_type": "code",
   "execution_count": 14,
   "id": "c87ac89b",
   "metadata": {},
   "outputs": [
    {
     "data": {
      "text/plain": [
       "Symbol        0\n",
       "Close         0\n",
       "Prev_close    0\n",
       "30SMA         0\n",
       "40SMA         0\n",
       "50SMA         0\n",
       "60SMA         0\n",
       "Std Dev       0\n",
       "Nxt60         0\n",
       "Nxt60%Diff    0\n",
       "60Max         0\n",
       "Max%Diff      0\n",
       "Target        0\n",
       "dtype: int64"
      ]
     },
     "execution_count": 14,
     "metadata": {},
     "output_type": "execute_result"
    }
   ],
   "source": [
    "#check for any null values\n",
    "ticker.isnull().sum()"
   ]
  },
  {
   "cell_type": "markdown",
   "id": "67d0052a",
   "metadata": {},
   "source": [
    "# Train a Machine Learning Model"
   ]
  },
  {
   "cell_type": "code",
   "execution_count": 75,
   "id": "abcb2c6c",
   "metadata": {},
   "outputs": [
    {
     "name": "stdout",
     "output_type": "stream",
     "text": [
      "(3386, 5) (3386,) (244, 5) (244,)\n"
     ]
    }
   ],
   "source": [
    "#set features & target\n",
    "predictors = [\"Prev_close\", \"30SMA\", \"40SMA\", \"50SMA\", \"60SMA\"]\n",
    "\n",
    "#split data for training & testing (using timeframe till end of 2019 to avoid stock price shift after 2020)\n",
    "Train = ticker['2005-01-01' :'2018-12-31']\n",
    "Test = ticker['2019-01-01' :'2019-12-31']\n",
    "\n",
    "x_train = Train[predictors]\n",
    "y_train = Train[\"Target\"]\n",
    "\n",
    "x_test = Test[predictors]\n",
    "y_test = Test[\"Target\"]\n",
    "\n",
    "print(x_train.shape, y_train.shape, x_test.shape, y_test.shape)"
   ]
  },
  {
   "cell_type": "code",
   "execution_count": 16,
   "id": "abb0c52d",
   "metadata": {
    "scrolled": true
   },
   "outputs": [
    {
     "data": {
      "image/png": "[encoded data removed]",
      "text/plain": [
       "<Figure size 432x288 with 1 Axes>"
      ]
     },
     "metadata": {
      "needs_background": "light"
     },
     "output_type": "display_data"
    }
   ],
   "source": [
    "# Use lasso regression model to try and identify important features of dataset\n",
    "\n",
    "from sklearn.linear_model import Lasso\n",
    "\n",
    "X = ticker[predictors].values\n",
    "y = ticker[\"Target\"].values\n",
    "\n",
    "names = ticker[predictors].columns\n",
    "lasso = Lasso(alpha=0.1)\n",
    "lasso_coef = lasso.fit(X, y).coef_\n",
    "plt.bar(names, lasso_coef)\n",
    "plt.xticks(rotation=45)\n",
    "plt.show()"
   ]
  },
  {
   "cell_type": "code",
   "execution_count": 17,
   "id": "a39be595",
   "metadata": {},
   "outputs": [],
   "source": [
    "# Use Random Forest machine learning model on the dataset\n",
    "\n",
    "from sklearn.ensemble import RandomForestClassifier\n",
    "\n",
    "model = RandomForestClassifier(n_estimators=100, min_samples_split=50, random_state=42, n_jobs=-1,oob_score=True)\n",
    "\n",
    "model.fit(x_train, y_train)\n",
    "preds = model.predict(x_test)\n",
    "preds = pd.Series(preds,index=x_test.index)"
   ]
  },
  {
   "cell_type": "code",
   "execution_count": 18,
   "id": "766ac7d3",
   "metadata": {
    "scrolled": true
   },
   "outputs": [
    {
     "name": "stdout",
     "output_type": "stream",
     "text": [
      "R-Squared value of the model:  63.5%\n",
      "Precision  score of the model:  84.5%\n",
      "Model RMSE score:  60.4%\n"
     ]
    }
   ],
   "source": [
    "#R-Squared value of the model\n",
    "RSq = model.score(x_test, y_test)\n",
    "\n",
    "#check precison score of the model\n",
    "from sklearn.metrics import precision_score\n",
    "PS = precision_score(y_test, preds)\n",
    "\n",
    "# Model RMSE score\n",
    "from sklearn.metrics import mean_squared_error\n",
    "RMSE = mean_squared_error(y_test, preds, squared=False)\n",
    "\n",
    "print(\"R-Squared value of the model: \", str(round(RSq*100,1))+\"%\")\n",
    "print(\"Precision  score of the model: \", str(round(PS*100,1))+\"%\")\n",
    "print(\"Model RMSE score: \", str(round(RMSE*100,1))+\"%\")"
   ]
  },
  {
   "cell_type": "markdown",
   "id": "8729a03c",
   "metadata": {},
   "source": [
    "# Perform Hyperparameter Tuning"
   ]
  },
  {
   "cell_type": "code",
   "execution_count": 19,
   "id": "9fc4dea1",
   "metadata": {},
   "outputs": [
    {
     "data": {
      "text/plain": [
       "RandomForestClassifier(min_samples_split=6, n_estimators=190, n_jobs=-1,\n",
       "                       oob_score=True, random_state=42)"
      ]
     },
     "execution_count": 19,
     "metadata": {},
     "output_type": "execute_result"
    }
   ],
   "source": [
    "# Number of trees in random forest\n",
    "n_estimators = list(range(100,500,10))\n",
    "\n",
    "# Minimum number of samples required to split a node\n",
    "min_samples_split = list(range(2,50,2))\n",
    "\n",
    "from sklearn.model_selection import RandomizedSearchCV\n",
    "\n",
    "param_grid = {'n_estimators': n_estimators,'min_samples_split': min_samples_split}\n",
    "\n",
    "model = RandomForestClassifier(random_state=42, n_jobs=-1,oob_score=True)\n",
    "\n",
    "model_cv = RandomizedSearchCV(model, param_grid)\n",
    "\n",
    "model_cv.fit(x_train, y_train)\n",
    "\n",
    "model_cv.best_score_\n",
    "\n",
    "rf_best = model_cv.best_estimator_\n",
    "rf_best"
   ]
  },
  {
   "cell_type": "code",
   "execution_count": 21,
   "id": "a5827b8a",
   "metadata": {},
   "outputs": [
    {
     "name": "stdout",
     "output_type": "stream",
     "text": [
      "R-Squared value of the model:  68.9%\n",
      "Precision  score of the model:  86.0%\n",
      "Model RMSE score:  55.8%\n"
     ]
    }
   ],
   "source": [
    "# Use tuned model on the dataset to calculate scores again\n",
    "\n",
    "#R-Squared value of the model\n",
    "RSq = rf_best.score(x_test, y_test)\n",
    "\n",
    "#check precison score of the model\n",
    "from sklearn.metrics import precision_score\n",
    "\n",
    "preds = rf_best.predict(x_test)\n",
    "preds = pd.Series(preds,index=x_test.index)\n",
    "\n",
    "PS = precision_score(y_test, preds)\n",
    "\n",
    "# Model RMSE score\n",
    "from sklearn.metrics import mean_squared_error\n",
    "RMSE = mean_squared_error(y_test, preds, squared=False)\n",
    "\n",
    "print(\"R-Squared value of the model: \", str(round(RSq*100,1))+\"%\")\n",
    "print(\"Precision  score of the model: \", str(round(PS*100,1))+\"%\")\n",
    "print(\"Model RMSE score: \", str(round(RMSE*100,1))+\"%\")"
   ]
  },
  {
   "cell_type": "markdown",
   "id": "5b96885e",
   "metadata": {},
   "source": [
    "# Building a Back Testing System"
   ]
  },
  {
   "cell_type": "markdown",
   "id": "b81aff7a",
   "metadata": {},
   "source": [
    "First 5-years of Ticker data will be used as training set and 6th year as test set. Generated predictions will be stored\n",
    "in a list.\n",
    "With each iteration of for loop, training data size will increase by a year and the one after becomes test data.\n",
    "This will help the model learn market movement better and account for price shifts over the years."
   ]
  },
  {
   "cell_type": "code",
   "execution_count": 22,
   "id": "e20824f2",
   "metadata": {},
   "outputs": [],
   "source": [
    "def predict(train, test, predictors, model):      \n",
    "    model.fit(train[predictors], train[\"Target\"])\n",
    "    preds = model.predict(test[predictors])\n",
    "    preds = pd.Series(preds, index=test.index, name = \"Predictions\")\n",
    "    combined = pd.concat([test[[\"Close\",\"Nxt60\",\"Nxt60%Diff\",\"Std Dev\",\"60Max\",\"Target\"]],preds], axis=1)\n",
    "    return combined"
   ]
  },
  {
   "cell_type": "code",
   "execution_count": 23,
   "id": "30f274f1",
   "metadata": {},
   "outputs": [],
   "source": [
    "def backtest(data, model, predictors, start=1250, step=250):\n",
    "    all_predictions = []\n",
    "    \n",
    "    for i in range(start, data.shape[0], step):\n",
    "        train = data.iloc[0:i].copy()\n",
    "        test = data.iloc[i:(i+step)].copy()\n",
    "        predictions = predict(train, test, predictors, model)\n",
    "        all_predictions.append(predictions)\n",
    "    return pd.concat(all_predictions)"
   ]
  },
  {
   "cell_type": "markdown",
   "id": "532280c4",
   "metadata": {},
   "source": [
    "# Predicting the target & generate result"
   ]
  },
  {
   "cell_type": "code",
   "execution_count": 76,
   "id": "e270a96a",
   "metadata": {},
   "outputs": [],
   "source": [
    "#Run tuned model with full data set and added backtesting function built in and get predictions\n",
    "\n",
    "predictions = backtest(ticker, rf_best, predictors)"
   ]
  },
  {
   "cell_type": "code",
   "execution_count": 77,
   "id": "190085c9",
   "metadata": {
    "scrolled": true
   },
   "outputs": [
    {
     "name": "stdout",
     "output_type": "stream",
     "text": [
      "Precison score of the model:  81.2%\n"
     ]
    }
   ],
   "source": [
    "# Calculate precision score\n",
    "\n",
    "PS = precision_score(predictions[\"Target\"], predictions[\"Predictions\"])\n",
    "print(\"Precison score of the model: \", str(round(PS*100,1))+\"%\")"
   ]
  },
  {
   "cell_type": "code",
   "execution_count": 78,
   "id": "80f34090",
   "metadata": {
    "scrolled": true
   },
   "outputs": [
    {
     "data": {
      "text/html": [
       "<div>\n",
       "<style scoped>\n",
       "    .dataframe tbody tr th:only-of-type {\n",
       "        vertical-align: middle;\n",
       "    }\n",
       "\n",
       "    .dataframe tbody tr th {\n",
       "        vertical-align: top;\n",
       "    }\n",
       "\n",
       "    .dataframe thead th {\n",
       "        text-align: right;\n",
       "    }\n",
       "</style>\n",
       "<table border=\"1\" class=\"dataframe\">\n",
       "  <thead>\n",
       "    <tr style=\"text-align: right;\">\n",
       "      <th></th>\n",
       "      <th>Close</th>\n",
       "      <th>Nxt60</th>\n",
       "      <th>Nxt60%Diff</th>\n",
       "      <th>Std Dev</th>\n",
       "      <th>60Max</th>\n",
       "      <th>Target</th>\n",
       "      <th>Predictions</th>\n",
       "    </tr>\n",
       "    <tr>\n",
       "      <th>timestamp</th>\n",
       "      <th></th>\n",
       "      <th></th>\n",
       "      <th></th>\n",
       "      <th></th>\n",
       "      <th></th>\n",
       "      <th></th>\n",
       "      <th></th>\n",
       "    </tr>\n",
       "  </thead>\n",
       "  <tbody>\n",
       "    <tr>\n",
       "      <th>2010-05-04</th>\n",
       "      <td>52.6428</td>\n",
       "      <td>54.8012</td>\n",
       "      <td>0.041001</td>\n",
       "      <td>0.361977</td>\n",
       "      <td>55.7356</td>\n",
       "      <td>1</td>\n",
       "      <td>1</td>\n",
       "    </tr>\n",
       "    <tr>\n",
       "      <th>2010-05-05</th>\n",
       "      <td>52.7829</td>\n",
       "      <td>55.1750</td>\n",
       "      <td>0.045320</td>\n",
       "      <td>0.417436</td>\n",
       "      <td>55.7356</td>\n",
       "      <td>1</td>\n",
       "      <td>1</td>\n",
       "    </tr>\n",
       "    <tr>\n",
       "      <th>2010-05-06</th>\n",
       "      <td>52.8063</td>\n",
       "      <td>54.3901</td>\n",
       "      <td>0.029993</td>\n",
       "      <td>0.481090</td>\n",
       "      <td>55.7356</td>\n",
       "      <td>1</td>\n",
       "      <td>1</td>\n",
       "    </tr>\n",
       "    <tr>\n",
       "      <th>2010-05-07</th>\n",
       "      <td>52.4699</td>\n",
       "      <td>54.3901</td>\n",
       "      <td>0.036596</td>\n",
       "      <td>0.561497</td>\n",
       "      <td>55.7356</td>\n",
       "      <td>1</td>\n",
       "      <td>1</td>\n",
       "    </tr>\n",
       "    <tr>\n",
       "      <th>2010-05-10</th>\n",
       "      <td>54.2499</td>\n",
       "      <td>56.9690</td>\n",
       "      <td>0.050122</td>\n",
       "      <td>0.636667</td>\n",
       "      <td>56.9690</td>\n",
       "      <td>1</td>\n",
       "      <td>1</td>\n",
       "    </tr>\n",
       "    <tr>\n",
       "      <th>...</th>\n",
       "      <td>...</td>\n",
       "      <td>...</td>\n",
       "      <td>...</td>\n",
       "      <td>...</td>\n",
       "      <td>...</td>\n",
       "      <td>...</td>\n",
       "      <td>...</td>\n",
       "    </tr>\n",
       "    <tr>\n",
       "      <th>2022-08-05</th>\n",
       "      <td>2697.6001</td>\n",
       "      <td>3832.3501</td>\n",
       "      <td>0.420652</td>\n",
       "      <td>56.527841</td>\n",
       "      <td>3835.8000</td>\n",
       "      <td>1</td>\n",
       "      <td>1</td>\n",
       "    </tr>\n",
       "    <tr>\n",
       "      <th>2022-08-08</th>\n",
       "      <td>2792.3501</td>\n",
       "      <td>3961.1499</td>\n",
       "      <td>0.418572</td>\n",
       "      <td>59.555730</td>\n",
       "      <td>3961.1499</td>\n",
       "      <td>1</td>\n",
       "      <td>1</td>\n",
       "    </tr>\n",
       "    <tr>\n",
       "      <th>2022-08-10</th>\n",
       "      <td>2826.8501</td>\n",
       "      <td>3997.1499</td>\n",
       "      <td>0.413994</td>\n",
       "      <td>63.610227</td>\n",
       "      <td>3997.1499</td>\n",
       "      <td>1</td>\n",
       "      <td>1</td>\n",
       "    </tr>\n",
       "    <tr>\n",
       "      <th>2022-08-11</th>\n",
       "      <td>2833.2500</td>\n",
       "      <td>3992.8999</td>\n",
       "      <td>0.409300</td>\n",
       "      <td>67.898938</td>\n",
       "      <td>3997.1499</td>\n",
       "      <td>1</td>\n",
       "      <td>1</td>\n",
       "    </tr>\n",
       "    <tr>\n",
       "      <th>2022-08-12</th>\n",
       "      <td>2864.3501</td>\n",
       "      <td>4008.7000</td>\n",
       "      <td>0.399515</td>\n",
       "      <td>71.930416</td>\n",
       "      <td>4008.7000</td>\n",
       "      <td>1</td>\n",
       "      <td>1</td>\n",
       "    </tr>\n",
       "  </tbody>\n",
       "</table>\n",
       "<p>3030 rows × 7 columns</p>\n",
       "</div>"
      ],
      "text/plain": [
       "                Close      Nxt60  Nxt60%Diff    Std Dev      60Max  Target  \\\n",
       "timestamp                                                                    \n",
       "2010-05-04    52.6428    54.8012    0.041001   0.361977    55.7356       1   \n",
       "2010-05-05    52.7829    55.1750    0.045320   0.417436    55.7356       1   \n",
       "2010-05-06    52.8063    54.3901    0.029993   0.481090    55.7356       1   \n",
       "2010-05-07    52.4699    54.3901    0.036596   0.561497    55.7356       1   \n",
       "2010-05-10    54.2499    56.9690    0.050122   0.636667    56.9690       1   \n",
       "...               ...        ...         ...        ...        ...     ...   \n",
       "2022-08-05  2697.6001  3832.3501    0.420652  56.527841  3835.8000       1   \n",
       "2022-08-08  2792.3501  3961.1499    0.418572  59.555730  3961.1499       1   \n",
       "2022-08-10  2826.8501  3997.1499    0.413994  63.610227  3997.1499       1   \n",
       "2022-08-11  2833.2500  3992.8999    0.409300  67.898938  3997.1499       1   \n",
       "2022-08-12  2864.3501  4008.7000    0.399515  71.930416  4008.7000       1   \n",
       "\n",
       "            Predictions  \n",
       "timestamp                \n",
       "2010-05-04            1  \n",
       "2010-05-05            1  \n",
       "2010-05-06            1  \n",
       "2010-05-07            1  \n",
       "2010-05-10            1  \n",
       "...                 ...  \n",
       "2022-08-05            1  \n",
       "2022-08-08            1  \n",
       "2022-08-10            1  \n",
       "2022-08-11            1  \n",
       "2022-08-12            1  \n",
       "\n",
       "[3030 rows x 7 columns]"
      ]
     },
     "execution_count": 78,
     "metadata": {},
     "output_type": "execute_result"
    }
   ],
   "source": [
    "predictions"
   ]
  },
  {
   "cell_type": "markdown",
   "id": "5e81f337",
   "metadata": {},
   "source": [
    "As per hypothesis, we're only interested in trading period where stock price had less fluctuation\n",
    "In other words, stock was consolidating. Therfore we'll filter the predictions dataframe."
   ]
  },
  {
   "cell_type": "code",
   "execution_count": 79,
   "id": "af2dc418",
   "metadata": {
    "scrolled": true
   },
   "outputs": [
    {
     "data": {
      "text/html": [
       "<div>\n",
       "<style scoped>\n",
       "    .dataframe tbody tr th:only-of-type {\n",
       "        vertical-align: middle;\n",
       "    }\n",
       "\n",
       "    .dataframe tbody tr th {\n",
       "        vertical-align: top;\n",
       "    }\n",
       "\n",
       "    .dataframe thead th {\n",
       "        text-align: right;\n",
       "    }\n",
       "</style>\n",
       "<table border=\"1\" class=\"dataframe\">\n",
       "  <thead>\n",
       "    <tr style=\"text-align: right;\">\n",
       "      <th></th>\n",
       "      <th>Close</th>\n",
       "      <th>Nxt60</th>\n",
       "      <th>Nxt60%Diff</th>\n",
       "      <th>Std Dev</th>\n",
       "      <th>60Max</th>\n",
       "      <th>Target</th>\n",
       "      <th>Predictions</th>\n",
       "    </tr>\n",
       "    <tr>\n",
       "      <th>timestamp</th>\n",
       "      <th></th>\n",
       "      <th></th>\n",
       "      <th></th>\n",
       "      <th></th>\n",
       "      <th></th>\n",
       "      <th></th>\n",
       "      <th></th>\n",
       "    </tr>\n",
       "  </thead>\n",
       "  <tbody>\n",
       "    <tr>\n",
       "      <th>2010-05-04</th>\n",
       "      <td>52.6428</td>\n",
       "      <td>54.8012</td>\n",
       "      <td>0.041001</td>\n",
       "      <td>0.361977</td>\n",
       "      <td>55.7356</td>\n",
       "      <td>1</td>\n",
       "      <td>1</td>\n",
       "    </tr>\n",
       "    <tr>\n",
       "      <th>2010-05-05</th>\n",
       "      <td>52.7829</td>\n",
       "      <td>55.1750</td>\n",
       "      <td>0.045320</td>\n",
       "      <td>0.417436</td>\n",
       "      <td>55.7356</td>\n",
       "      <td>1</td>\n",
       "      <td>1</td>\n",
       "    </tr>\n",
       "    <tr>\n",
       "      <th>2010-05-06</th>\n",
       "      <td>52.8063</td>\n",
       "      <td>54.3901</td>\n",
       "      <td>0.029993</td>\n",
       "      <td>0.481090</td>\n",
       "      <td>55.7356</td>\n",
       "      <td>1</td>\n",
       "      <td>1</td>\n",
       "    </tr>\n",
       "    <tr>\n",
       "      <th>2010-05-07</th>\n",
       "      <td>52.4699</td>\n",
       "      <td>54.3901</td>\n",
       "      <td>0.036596</td>\n",
       "      <td>0.561497</td>\n",
       "      <td>55.7356</td>\n",
       "      <td>1</td>\n",
       "      <td>1</td>\n",
       "    </tr>\n",
       "    <tr>\n",
       "      <th>2010-05-10</th>\n",
       "      <td>54.2499</td>\n",
       "      <td>56.9690</td>\n",
       "      <td>0.050122</td>\n",
       "      <td>0.636667</td>\n",
       "      <td>56.9690</td>\n",
       "      <td>1</td>\n",
       "      <td>1</td>\n",
       "    </tr>\n",
       "    <tr>\n",
       "      <th>...</th>\n",
       "      <td>...</td>\n",
       "      <td>...</td>\n",
       "      <td>...</td>\n",
       "      <td>...</td>\n",
       "      <td>...</td>\n",
       "      <td>...</td>\n",
       "      <td>...</td>\n",
       "    </tr>\n",
       "    <tr>\n",
       "      <th>2020-08-17</th>\n",
       "      <td>197.5349</td>\n",
       "      <td>359.1089</td>\n",
       "      <td>0.817952</td>\n",
       "      <td>4.528839</td>\n",
       "      <td>359.1089</td>\n",
       "      <td>1</td>\n",
       "      <td>1</td>\n",
       "    </tr>\n",
       "    <tr>\n",
       "      <th>2020-08-18</th>\n",
       "      <td>213.4675</td>\n",
       "      <td>359.8082</td>\n",
       "      <td>0.685541</td>\n",
       "      <td>4.601459</td>\n",
       "      <td>359.8082</td>\n",
       "      <td>1</td>\n",
       "      <td>1</td>\n",
       "    </tr>\n",
       "    <tr>\n",
       "      <th>2020-08-19</th>\n",
       "      <td>238.7900</td>\n",
       "      <td>365.1024</td>\n",
       "      <td>0.528969</td>\n",
       "      <td>4.736306</td>\n",
       "      <td>365.1024</td>\n",
       "      <td>1</td>\n",
       "      <td>1</td>\n",
       "    </tr>\n",
       "    <tr>\n",
       "      <th>2022-04-04</th>\n",
       "      <td>2064.7219</td>\n",
       "      <td>2188.9191</td>\n",
       "      <td>0.060152</td>\n",
       "      <td>4.603417</td>\n",
       "      <td>2395.9811</td>\n",
       "      <td>1</td>\n",
       "      <td>0</td>\n",
       "    </tr>\n",
       "    <tr>\n",
       "      <th>2022-04-05</th>\n",
       "      <td>2140.9395</td>\n",
       "      <td>2230.6514</td>\n",
       "      <td>0.041903</td>\n",
       "      <td>4.503108</td>\n",
       "      <td>2395.9811</td>\n",
       "      <td>1</td>\n",
       "      <td>0</td>\n",
       "    </tr>\n",
       "  </tbody>\n",
       "</table>\n",
       "<p>2374 rows × 7 columns</p>\n",
       "</div>"
      ],
      "text/plain": [
       "                Close      Nxt60  Nxt60%Diff   Std Dev      60Max  Target  \\\n",
       "timestamp                                                                   \n",
       "2010-05-04    52.6428    54.8012    0.041001  0.361977    55.7356       1   \n",
       "2010-05-05    52.7829    55.1750    0.045320  0.417436    55.7356       1   \n",
       "2010-05-06    52.8063    54.3901    0.029993  0.481090    55.7356       1   \n",
       "2010-05-07    52.4699    54.3901    0.036596  0.561497    55.7356       1   \n",
       "2010-05-10    54.2499    56.9690    0.050122  0.636667    56.9690       1   \n",
       "...               ...        ...         ...       ...        ...     ...   \n",
       "2020-08-17   197.5349   359.1089    0.817952  4.528839   359.1089       1   \n",
       "2020-08-18   213.4675   359.8082    0.685541  4.601459   359.8082       1   \n",
       "2020-08-19   238.7900   365.1024    0.528969  4.736306   365.1024       1   \n",
       "2022-04-04  2064.7219  2188.9191    0.060152  4.603417  2395.9811       1   \n",
       "2022-04-05  2140.9395  2230.6514    0.041903  4.503108  2395.9811       1   \n",
       "\n",
       "            Predictions  \n",
       "timestamp                \n",
       "2010-05-04            1  \n",
       "2010-05-05            1  \n",
       "2010-05-06            1  \n",
       "2010-05-07            1  \n",
       "2010-05-10            1  \n",
       "...                 ...  \n",
       "2020-08-17            1  \n",
       "2020-08-18            1  \n",
       "2020-08-19            1  \n",
       "2022-04-04            0  \n",
       "2022-04-05            0  \n",
       "\n",
       "[2374 rows x 7 columns]"
      ]
     },
     "execution_count": 79,
     "metadata": {},
     "output_type": "execute_result"
    }
   ],
   "source": [
    "# Filter predictions dataframe for only those rows where standard deviation is lower than 5\n",
    "predictions_filtered = predictions[predictions['Std Dev'] < 5]\n",
    "predictions_filtered"
   ]
  },
  {
   "cell_type": "markdown",
   "id": "1c83dbdf",
   "metadata": {},
   "source": [
    "Checking the performance of model if trading was done on all days when stock was consolidating \n",
    "vs only on days when prediction was 1. \n",
    "\n",
    "Model Prediction Based Trading:\n",
    "\n",
    "Trading amount is set to Rs 1000 per trading day and minimum profit expectation is 5%\n",
    "Where prediction & target are 1, trade resulted in at least 5% profit.\n",
    "Where prediction is 1 but target is 0, profit did not reach 5% in next 60 days and trade was exited on 60th day with P/L calculated at that day's price.\n",
    "When prediction is 0, no trade was taken\n",
    "\n",
    "Estimated Profit Based Trading:\n",
    "\n",
    "Trading is done each day when Std deviation was less than 5\n",
    "Trading amount is set to Rs 1000 per trading day and minimum profit expectation is 5%\n",
    "Where target is 1, trade resulted in at least 5% profit.\n",
    "Where target is 0, profit did not reach 5% in next 60 days and trade was exited on 60th day with P/L calculated at that day's price.\n"
   ]
  },
  {
   "cell_type": "code",
   "execution_count": 80,
   "id": "2d964df1",
   "metadata": {
    "scrolled": true
   },
   "outputs": [],
   "source": [
    "# Define functions to calculate model prediction based trades vs estimated profit based trades\n",
    "\n",
    "def Pred_Based_PL(df_row):\n",
    "    if (df_row['Predictions'] == 1.0) & (df_row['Target'] == 1):\n",
    "        PL = 1000*0.05\n",
    "    elif (df_row['Predictions'] == 1.0) & (df_row['Target'] == 0):\n",
    "        PL = df_row['Nxt60%Diff']*1000\n",
    "    else:\n",
    "        PL = 0\n",
    "    return PL\n",
    "\n",
    "def EP_Based_PL(df_row):\n",
    "    if (df_row['Target'] == 1):\n",
    "        PL = 1000*0.05\n",
    "    else:\n",
    "        PL = df_row['Nxt60%Diff']*1000\n",
    "    return PL\n",
    "\n",
    "# Add two columns in dataframe storing Profit/Loss figures from each approach\n",
    "pd.set_option('mode.chained_assignment', None)\n",
    "predictions_filtered['Pred Based P/L'] = predictions_filtered.apply(Pred_Based_PL, axis=1)\n",
    "predictions_filtered['EP based P/L'] = predictions_filtered.apply(EP_Based_PL, axis=1)"
   ]
  },
  {
   "cell_type": "code",
   "execution_count": 81,
   "id": "fd041220",
   "metadata": {
    "scrolled": true
   },
   "outputs": [
    {
     "data": {
      "text/html": [
       "<div>\n",
       "<style scoped>\n",
       "    .dataframe tbody tr th:only-of-type {\n",
       "        vertical-align: middle;\n",
       "    }\n",
       "\n",
       "    .dataframe tbody tr th {\n",
       "        vertical-align: top;\n",
       "    }\n",
       "\n",
       "    .dataframe thead th {\n",
       "        text-align: right;\n",
       "    }\n",
       "</style>\n",
       "<table border=\"1\" class=\"dataframe\">\n",
       "  <thead>\n",
       "    <tr style=\"text-align: right;\">\n",
       "      <th></th>\n",
       "      <th>Close</th>\n",
       "      <th>Nxt60</th>\n",
       "      <th>Nxt60%Diff</th>\n",
       "      <th>Std Dev</th>\n",
       "      <th>60Max</th>\n",
       "      <th>Target</th>\n",
       "      <th>Predictions</th>\n",
       "      <th>Pred Based P/L</th>\n",
       "      <th>EP based P/L</th>\n",
       "    </tr>\n",
       "    <tr>\n",
       "      <th>timestamp</th>\n",
       "      <th></th>\n",
       "      <th></th>\n",
       "      <th></th>\n",
       "      <th></th>\n",
       "      <th></th>\n",
       "      <th></th>\n",
       "      <th></th>\n",
       "      <th></th>\n",
       "      <th></th>\n",
       "    </tr>\n",
       "  </thead>\n",
       "  <tbody>\n",
       "    <tr>\n",
       "      <th>2010-05-04</th>\n",
       "      <td>52.6428</td>\n",
       "      <td>54.8012</td>\n",
       "      <td>0.041001</td>\n",
       "      <td>0.361977</td>\n",
       "      <td>55.7356</td>\n",
       "      <td>1</td>\n",
       "      <td>1</td>\n",
       "      <td>50.0</td>\n",
       "      <td>50.0</td>\n",
       "    </tr>\n",
       "    <tr>\n",
       "      <th>2010-05-05</th>\n",
       "      <td>52.7829</td>\n",
       "      <td>55.1750</td>\n",
       "      <td>0.045320</td>\n",
       "      <td>0.417436</td>\n",
       "      <td>55.7356</td>\n",
       "      <td>1</td>\n",
       "      <td>1</td>\n",
       "      <td>50.0</td>\n",
       "      <td>50.0</td>\n",
       "    </tr>\n",
       "    <tr>\n",
       "      <th>2010-05-06</th>\n",
       "      <td>52.8063</td>\n",
       "      <td>54.3901</td>\n",
       "      <td>0.029993</td>\n",
       "      <td>0.481090</td>\n",
       "      <td>55.7356</td>\n",
       "      <td>1</td>\n",
       "      <td>1</td>\n",
       "      <td>50.0</td>\n",
       "      <td>50.0</td>\n",
       "    </tr>\n",
       "    <tr>\n",
       "      <th>2010-05-07</th>\n",
       "      <td>52.4699</td>\n",
       "      <td>54.3901</td>\n",
       "      <td>0.036596</td>\n",
       "      <td>0.561497</td>\n",
       "      <td>55.7356</td>\n",
       "      <td>1</td>\n",
       "      <td>1</td>\n",
       "      <td>50.0</td>\n",
       "      <td>50.0</td>\n",
       "    </tr>\n",
       "    <tr>\n",
       "      <th>2010-05-10</th>\n",
       "      <td>54.2499</td>\n",
       "      <td>56.9690</td>\n",
       "      <td>0.050122</td>\n",
       "      <td>0.636667</td>\n",
       "      <td>56.9690</td>\n",
       "      <td>1</td>\n",
       "      <td>1</td>\n",
       "      <td>50.0</td>\n",
       "      <td>50.0</td>\n",
       "    </tr>\n",
       "    <tr>\n",
       "      <th>...</th>\n",
       "      <td>...</td>\n",
       "      <td>...</td>\n",
       "      <td>...</td>\n",
       "      <td>...</td>\n",
       "      <td>...</td>\n",
       "      <td>...</td>\n",
       "      <td>...</td>\n",
       "      <td>...</td>\n",
       "      <td>...</td>\n",
       "    </tr>\n",
       "    <tr>\n",
       "      <th>2020-08-17</th>\n",
       "      <td>197.5349</td>\n",
       "      <td>359.1089</td>\n",
       "      <td>0.817952</td>\n",
       "      <td>4.528839</td>\n",
       "      <td>359.1089</td>\n",
       "      <td>1</td>\n",
       "      <td>1</td>\n",
       "      <td>50.0</td>\n",
       "      <td>50.0</td>\n",
       "    </tr>\n",
       "    <tr>\n",
       "      <th>2020-08-18</th>\n",
       "      <td>213.4675</td>\n",
       "      <td>359.8082</td>\n",
       "      <td>0.685541</td>\n",
       "      <td>4.601459</td>\n",
       "      <td>359.8082</td>\n",
       "      <td>1</td>\n",
       "      <td>1</td>\n",
       "      <td>50.0</td>\n",
       "      <td>50.0</td>\n",
       "    </tr>\n",
       "    <tr>\n",
       "      <th>2020-08-19</th>\n",
       "      <td>238.7900</td>\n",
       "      <td>365.1024</td>\n",
       "      <td>0.528969</td>\n",
       "      <td>4.736306</td>\n",
       "      <td>365.1024</td>\n",
       "      <td>1</td>\n",
       "      <td>1</td>\n",
       "      <td>50.0</td>\n",
       "      <td>50.0</td>\n",
       "    </tr>\n",
       "    <tr>\n",
       "      <th>2022-04-04</th>\n",
       "      <td>2064.7219</td>\n",
       "      <td>2188.9191</td>\n",
       "      <td>0.060152</td>\n",
       "      <td>4.603417</td>\n",
       "      <td>2395.9811</td>\n",
       "      <td>1</td>\n",
       "      <td>0</td>\n",
       "      <td>0.0</td>\n",
       "      <td>50.0</td>\n",
       "    </tr>\n",
       "    <tr>\n",
       "      <th>2022-04-05</th>\n",
       "      <td>2140.9395</td>\n",
       "      <td>2230.6514</td>\n",
       "      <td>0.041903</td>\n",
       "      <td>4.503108</td>\n",
       "      <td>2395.9811</td>\n",
       "      <td>1</td>\n",
       "      <td>0</td>\n",
       "      <td>0.0</td>\n",
       "      <td>50.0</td>\n",
       "    </tr>\n",
       "  </tbody>\n",
       "</table>\n",
       "<p>2374 rows × 9 columns</p>\n",
       "</div>"
      ],
      "text/plain": [
       "                Close      Nxt60  Nxt60%Diff   Std Dev      60Max  Target  \\\n",
       "timestamp                                                                   \n",
       "2010-05-04    52.6428    54.8012    0.041001  0.361977    55.7356       1   \n",
       "2010-05-05    52.7829    55.1750    0.045320  0.417436    55.7356       1   \n",
       "2010-05-06    52.8063    54.3901    0.029993  0.481090    55.7356       1   \n",
       "2010-05-07    52.4699    54.3901    0.036596  0.561497    55.7356       1   \n",
       "2010-05-10    54.2499    56.9690    0.050122  0.636667    56.9690       1   \n",
       "...               ...        ...         ...       ...        ...     ...   \n",
       "2020-08-17   197.5349   359.1089    0.817952  4.528839   359.1089       1   \n",
       "2020-08-18   213.4675   359.8082    0.685541  4.601459   359.8082       1   \n",
       "2020-08-19   238.7900   365.1024    0.528969  4.736306   365.1024       1   \n",
       "2022-04-04  2064.7219  2188.9191    0.060152  4.603417  2395.9811       1   \n",
       "2022-04-05  2140.9395  2230.6514    0.041903  4.503108  2395.9811       1   \n",
       "\n",
       "            Predictions  Pred Based P/L  EP based P/L  \n",
       "timestamp                                              \n",
       "2010-05-04            1            50.0          50.0  \n",
       "2010-05-05            1            50.0          50.0  \n",
       "2010-05-06            1            50.0          50.0  \n",
       "2010-05-07            1            50.0          50.0  \n",
       "2010-05-10            1            50.0          50.0  \n",
       "...                 ...             ...           ...  \n",
       "2020-08-17            1            50.0          50.0  \n",
       "2020-08-18            1            50.0          50.0  \n",
       "2020-08-19            1            50.0          50.0  \n",
       "2022-04-04            0             0.0          50.0  \n",
       "2022-04-05            0             0.0          50.0  \n",
       "\n",
       "[2374 rows x 9 columns]"
      ]
     },
     "execution_count": 81,
     "metadata": {},
     "output_type": "execute_result"
    }
   ],
   "source": [
    "predictions_filtered"
   ]
  },
  {
   "cell_type": "code",
   "execution_count": 82,
   "id": "62112f60",
   "metadata": {
    "scrolled": true
   },
   "outputs": [
    {
     "name": "stdout",
     "output_type": "stream",
     "text": [
      "Prediction based trading model performed better for ADANIENT\n",
      "Profit/Loss from prediction based trading:  9728.2\n",
      "Profit/Loss from estimation based trading:  -5316.53\n"
     ]
    },
    {
     "data": {
      "image/png": "[encoded data removed]",
      "text/plain": [
       "<Figure size 360x144 with 1 Axes>"
      ]
     },
     "metadata": {
      "needs_background": "light"
     },
     "output_type": "display_data"
    }
   ],
   "source": [
    "# Calculate sum of Profit/Loss from each approach\n",
    "PredPL = predictions_filtered['Pred Based P/L'].sum()\n",
    "EstimatedProfitPL = predictions_filtered['EP based P/L'].sum()\n",
    "\n",
    "if PredPL > EstimatedProfitPL:\n",
    "    print(\"Prediction based trading model performed better for\", str(stock))\n",
    "elif EstimatedProfitPL > PredPL:\n",
    "    print(\"Estimated profit based trading model performed better for\", str(stock))\n",
    "else:\n",
    "    print(\"Both models performed the same for\", str(stock))\n",
    "    \n",
    "\n",
    "print(\"Profit/Loss from prediction based trading: \", str(round(PredPL,2)))\n",
    "print(\"Profit/Loss from estimation based trading: \", str(round(EstimatedProfitPL,2)))\n",
    "x = [\"Prediction Based Trading\", \"Estimation Based Trading\"]\n",
    "y = [PredPL, EstimatedProfitPL]\n",
    "c = ['DarkCyan','Orange']\n",
    "plt.figure(figsize=(5,2))\n",
    "plt.barh(x,y, color=c, height = 0.4)\n",
    "plt.show()"
   ]
  },
  {
   "cell_type": "markdown",
   "id": "b61fc1cf",
   "metadata": {},
   "source": [
    "# Generate results for all stocks in NIFTY50 Index"
   ]
  },
  {
   "cell_type": "code",
   "execution_count": 83,
   "id": "9c87268e",
   "metadata": {},
   "outputs": [],
   "source": [
    "def dataprep(stock):    \n",
    "    file_name = str(stock)+'.csv'\n",
    "    ticker = pd.read_csv(file_name)\n",
    "    ticker['Symbol']= stock\n",
    "    ticker['timestamp'] = pd.to_datetime(ticker['timestamp'])\n",
    "    ticker.set_index('timestamp', inplace=True)\n",
    "    ticker = ticker.loc[:,['Symbol', 'adjusted_close']]\n",
    "    ticker.rename(columns = {'adjusted_close':'Close'}, inplace = True)\n",
    "    ticker = ticker.iloc[::-1]\n",
    "    ticker['Prev_close'] = ticker.loc[:,'Close'].shift(1)\n",
    "    ticker['30SMA'] = ticker['Prev_close'].rolling(30).mean()\n",
    "    ticker['40SMA'] = ticker['Prev_close'].rolling(40).mean()\n",
    "    ticker['50SMA'] = ticker['Prev_close'].rolling(50).mean()\n",
    "    ticker['60SMA'] = ticker['Prev_close'].rolling(60).mean()\n",
    "    ticker['Std Dev'] = ticker.loc[:,['30SMA','40SMA','50SMA','60SMA']].std(axis=1)\n",
    "    ticker['Nxt60'] = ticker.loc[:,'Close'].shift(-60)\n",
    "    ticker['Nxt60%Diff'] = ticker[['Close','Nxt60']].pct_change(axis=1)['Nxt60']\n",
    "    ticker['60Max'] = ticker['Nxt60'].rolling(60).max()\n",
    "    ticker['Max%Diff'] = ticker[['Close','60Max']].pct_change(axis=1)['60Max']\n",
    "    ticker['Target'] = np.where(ticker['Max%Diff']> 0.05,1,0)\n",
    "    ticker = ticker.dropna()\n",
    "    return ticker"
   ]
  },
  {
   "cell_type": "code",
   "execution_count": 84,
   "id": "1b9dfb39",
   "metadata": {},
   "outputs": [
    {
     "name": "stdout",
     "output_type": "stream",
     "text": [
      "Prediction based trading model performed better for ADANIENT\n",
      "Profit/Loss from prediction based trading:  9728.2\n",
      "Profit/Loss from estimation based trading:  -5316.53\n"
     ]
    },
    {
     "data": {
      "image/png": "[encoded data removed]",
      "text/plain": [
       "<Figure size 360x144 with 1 Axes>"
      ]
     },
     "metadata": {
      "needs_background": "light"
     },
     "output_type": "display_data"
    },
    {
     "name": "stdout",
     "output_type": "stream",
     "text": [
      "Prediction based trading model performed better for ADANIPORTS\n",
      "Profit/Loss from prediction based trading:  20489.31\n",
      "Profit/Loss from estimation based trading:  17947.39\n"
     ]
    },
    {
     "data": {
      "image/png": "[encoded data removed]",
      "text/plain": [
       "<Figure size 360x144 with 1 Axes>"
      ]
     },
     "metadata": {
      "needs_background": "light"
     },
     "output_type": "display_data"
    },
    {
     "name": "stdout",
     "output_type": "stream",
     "text": [
      "Estimated profit based trading model performed better for APOLLOHOSP\n",
      "Profit/Loss from prediction based trading:  16975.83\n",
      "Profit/Loss from estimation based trading:  19681.66\n"
     ]
    },
    {
     "data": {
      "image/png": "[encoded data removed]",
      "text/plain": [
       "<Figure size 360x144 with 1 Axes>"
      ]
     },
     "metadata": {
      "needs_background": "light"
     },
     "output_type": "display_data"
    },
    {
     "name": "stdout",
     "output_type": "stream",
     "text": [
      "Estimated profit based trading model performed better for ASIANPAINT\n",
      "Profit/Loss from prediction based trading:  27283.11\n",
      "Profit/Loss from estimation based trading:  29435.92\n"
     ]
    },
    {
     "data": {
      "image/png": "[encoded data removed]",
      "text/plain": [
       "<Figure size 360x144 with 1 Axes>"
      ]
     },
     "metadata": {
      "needs_background": "light"
     },
     "output_type": "display_data"
    },
    {
     "name": "stdout",
     "output_type": "stream",
     "text": [
      "Prediction based trading model performed better for AXISBANK\n",
      "Profit/Loss from prediction based trading:  7533.37\n",
      "Profit/Loss from estimation based trading:  590.97\n"
     ]
    },
    {
     "data": {
      "image/png": "[encoded data removed]",
      "text/plain": [
       "<Figure size 360x144 with 1 Axes>"
      ]
     },
     "metadata": {
      "needs_background": "light"
     },
     "output_type": "display_data"
    },
    {
     "name": "stdout",
     "output_type": "stream",
     "text": [
      "Estimated profit based trading model performed better for BAJAJ-AUTO\n",
      "Profit/Loss from prediction based trading:  1438.9\n",
      "Profit/Loss from estimation based trading:  2526.14\n"
     ]
    },
    {
     "data": {
      "image/png": "[encoded data removed]",
      "text/plain": [
       "<Figure size 360x144 with 1 Axes>"
      ]
     },
     "metadata": {
      "needs_background": "light"
     },
     "output_type": "display_data"
    },
    {
     "name": "stdout",
     "output_type": "stream",
     "text": [
      "Estimated profit based trading model performed better for BAJFINANCE\n",
      "Profit/Loss from prediction based trading:  27202.09\n",
      "Profit/Loss from estimation based trading:  29028.09\n"
     ]
    },
    {
     "data": {
      "image/png": "[encoded data removed]",
      "text/plain": [
       "<Figure size 360x144 with 1 Axes>"
      ]
     },
     "metadata": {
      "needs_background": "light"
     },
     "output_type": "display_data"
    },
    {
     "name": "stdout",
     "output_type": "stream",
     "text": [
      "Estimated profit based trading model performed better for BAJAJFINSV\n",
      "Profit/Loss from prediction based trading:  25071.65\n",
      "Profit/Loss from estimation based trading:  30258.11\n"
     ]
    },
    {
     "data": {
      "image/png": "[encoded data removed]",
      "text/plain": [
       "<Figure size 360x144 with 1 Axes>"
      ]
     },
     "metadata": {
      "needs_background": "light"
     },
     "output_type": "display_data"
    },
    {
     "name": "stdout",
     "output_type": "stream",
     "text": [
      "Prediction based trading model performed better for BPCL\n",
      "Profit/Loss from prediction based trading:  12111.0\n",
      "Profit/Loss from estimation based trading:  9094.75\n"
     ]
    },
    {
     "data": {
      "image/png": "[encoded data removed]",
      "text/plain": [
       "<Figure size 360x144 with 1 Axes>"
      ]
     },
     "metadata": {
      "needs_background": "light"
     },
     "output_type": "display_data"
    },
    {
     "name": "stdout",
     "output_type": "stream",
     "text": [
      "Estimated profit based trading model performed better for BHARTIARTL\n",
      "Profit/Loss from prediction based trading:  4787.24\n",
      "Profit/Loss from estimation based trading:  14076.29\n"
     ]
    },
    {
     "data": {
      "image/png": "[encoded data removed]",
      "text/plain": [
       "<Figure size 360x144 with 1 Axes>"
      ]
     },
     "metadata": {
      "needs_background": "light"
     },
     "output_type": "display_data"
    },
    {
     "name": "stdout",
     "output_type": "stream",
     "text": [
      "Estimated profit based trading model performed better for BRITANNIA\n",
      "Profit/Loss from prediction based trading:  10993.01\n",
      "Profit/Loss from estimation based trading:  16913.73\n"
     ]
    },
    {
     "data": {
      "image/png": "[encoded data removed]",
      "text/plain": [
       "<Figure size 360x144 with 1 Axes>"
      ]
     },
     "metadata": {
      "needs_background": "light"
     },
     "output_type": "display_data"
    },
    {
     "name": "stdout",
     "output_type": "stream",
     "text": [
      "Estimated profit based trading model performed better for CIPLA\n",
      "Profit/Loss from prediction based trading:  -9053.93\n",
      "Profit/Loss from estimation based trading:  2761.49\n"
     ]
    },
    {
     "data": {
      "image/png": "[encoded data removed]",
      "text/plain": [
       "<Figure size 360x144 with 1 Axes>"
      ]
     },
     "metadata": {
      "needs_background": "light"
     },
     "output_type": "display_data"
    },
    {
     "name": "stdout",
     "output_type": "stream",
     "text": [
      "Estimated profit based trading model performed better for COALINDIA\n",
      "Profit/Loss from prediction based trading:  -1976.8\n",
      "Profit/Loss from estimation based trading:  4053.14\n"
     ]
    },
    {
     "data": {
      "image/png": "[encoded data removed]",
      "text/plain": [
       "<Figure size 360x144 with 1 Axes>"
      ]
     },
     "metadata": {
      "needs_background": "light"
     },
     "output_type": "display_data"
    },
    {
     "name": "stdout",
     "output_type": "stream",
     "text": [
      "Estimated profit based trading model performed better for DIVISLAB\n",
      "Profit/Loss from prediction based trading:  8163.04\n",
      "Profit/Loss from estimation based trading:  13547.55\n"
     ]
    },
    {
     "data": {
      "image/png": "[encoded data removed]",
      "text/plain": [
       "<Figure size 360x144 with 1 Axes>"
      ]
     },
     "metadata": {
      "needs_background": "light"
     },
     "output_type": "display_data"
    },
    {
     "name": "stdout",
     "output_type": "stream",
     "text": [
      "Estimated profit based trading model performed better for DRREDDY\n",
      "Profit/Loss from prediction based trading:  2050.0\n",
      "Profit/Loss from estimation based trading:  3153.76\n"
     ]
    },
    {
     "data": {
      "image/png": "[encoded data removed]",
      "text/plain": [
       "<Figure size 360x144 with 1 Axes>"
      ]
     },
     "metadata": {
      "needs_background": "light"
     },
     "output_type": "display_data"
    },
    {
     "name": "stdout",
     "output_type": "stream",
     "text": [
      "Estimated profit based trading model performed better for EICHERMOT\n",
      "Profit/Loss from prediction based trading:  13309.51\n",
      "Profit/Loss from estimation based trading:  32235.87\n"
     ]
    },
    {
     "data": {
      "image/png": "[encoded data removed]",
      "text/plain": [
       "<Figure size 360x144 with 1 Axes>"
      ]
     },
     "metadata": {
      "needs_background": "light"
     },
     "output_type": "display_data"
    },
    {
     "name": "stdout",
     "output_type": "stream",
     "text": [
      "Estimated profit based trading model performed better for GRASIM\n",
      "Profit/Loss from prediction based trading:  -33.56\n",
      "Profit/Loss from estimation based trading:  3650.02\n"
     ]
    },
    {
     "data": {
      "image/png": "[encoded data removed]",
      "text/plain": [
       "<Figure size 360x144 with 1 Axes>"
      ]
     },
     "metadata": {
      "needs_background": "light"
     },
     "output_type": "display_data"
    },
    {
     "name": "stdout",
     "output_type": "stream",
     "text": [
      "Estimated profit based trading model performed better for HCLTECH\n",
      "Profit/Loss from prediction based trading:  23128.71\n",
      "Profit/Loss from estimation based trading:  51350.63\n"
     ]
    },
    {
     "data": {
      "image/png": "[encoded data removed]",
      "text/plain": [
       "<Figure size 360x144 with 1 Axes>"
      ]
     },
     "metadata": {
      "needs_background": "light"
     },
     "output_type": "display_data"
    },
    {
     "name": "stdout",
     "output_type": "stream",
     "text": [
      "Prediction based trading model performed better for HDFCBANK\n",
      "Profit/Loss from prediction based trading:  36064.71\n",
      "Profit/Loss from estimation based trading:  35006.97\n"
     ]
    },
    {
     "data": {
      "image/png": "[encoded data removed]",
      "text/plain": [
       "<Figure size 360x144 with 1 Axes>"
      ]
     },
     "metadata": {
      "needs_background": "light"
     },
     "output_type": "display_data"
    },
    {
     "name": "stdout",
     "output_type": "stream",
     "text": [
      "Estimated profit based trading model performed better for HEROMOTOCO\n",
      "Profit/Loss from prediction based trading:  -7816.76\n",
      "Profit/Loss from estimation based trading:  -7616.76\n"
     ]
    },
    {
     "data": {
      "image/png": "[encoded data removed]",
      "text/plain": [
       "<Figure size 360x144 with 1 Axes>"
      ]
     },
     "metadata": {
      "needs_background": "light"
     },
     "output_type": "display_data"
    },
    {
     "name": "stdout",
     "output_type": "stream",
     "text": [
      "Estimated profit based trading model performed better for HINDALCO\n",
      "Profit/Loss from prediction based trading:  -32159.58\n",
      "Profit/Loss from estimation based trading:  -22396.43\n"
     ]
    },
    {
     "data": {
      "image/png": "[encoded data removed]",
      "text/plain": [
       "<Figure size 360x144 with 1 Axes>"
      ]
     },
     "metadata": {
      "needs_background": "light"
     },
     "output_type": "display_data"
    },
    {
     "name": "stdout",
     "output_type": "stream",
     "text": [
      "Estimated profit based trading model performed better for HINDUNILVR\n",
      "Profit/Loss from prediction based trading:  11650.81\n",
      "Profit/Loss from estimation based trading:  26247.08\n"
     ]
    },
    {
     "data": {
      "image/png": "[encoded data removed]",
      "text/plain": [
       "<Figure size 360x144 with 1 Axes>"
      ]
     },
     "metadata": {
      "needs_background": "light"
     },
     "output_type": "display_data"
    },
    {
     "name": "stdout",
     "output_type": "stream",
     "text": [
      "Estimated profit based trading model performed better for HDFC\n",
      "Profit/Loss from prediction based trading:  15737.57\n",
      "Profit/Loss from estimation based trading:  19908.46\n"
     ]
    },
    {
     "data": {
      "image/png": "[encoded data removed]",
      "text/plain": [
       "<Figure size 360x144 with 1 Axes>"
      ]
     },
     "metadata": {
      "needs_background": "light"
     },
     "output_type": "display_data"
    },
    {
     "name": "stdout",
     "output_type": "stream",
     "text": [
      "Prediction based trading model performed better for ICICIBANK\n",
      "Profit/Loss from prediction based trading:  26730.05\n",
      "Profit/Loss from estimation based trading:  20636.28\n"
     ]
    },
    {
     "data": {
      "image/png": "[encoded data removed]",
      "text/plain": [
       "<Figure size 360x144 with 1 Axes>"
      ]
     },
     "metadata": {
      "needs_background": "light"
     },
     "output_type": "display_data"
    },
    {
     "name": "stdout",
     "output_type": "stream",
     "text": [
      "Estimated profit based trading model performed better for ITC\n",
      "Profit/Loss from prediction based trading:  49158.62\n",
      "Profit/Loss from estimation based trading:  53647.44\n"
     ]
    },
    {
     "data": {
      "image/png": "[encoded data removed]",
      "text/plain": [
       "<Figure size 360x144 with 1 Axes>"
      ]
     },
     "metadata": {
      "needs_background": "light"
     },
     "output_type": "display_data"
    },
    {
     "name": "stdout",
     "output_type": "stream",
     "text": [
      "Estimated profit based trading model performed better for INDUSINDBK\n",
      "Profit/Loss from prediction based trading:  25560.59\n",
      "Profit/Loss from estimation based trading:  28201.48\n"
     ]
    },
    {
     "data": {
      "image/png": "[encoded data removed]",
      "text/plain": [
       "<Figure size 360x144 with 1 Axes>"
      ]
     },
     "metadata": {
      "needs_background": "light"
     },
     "output_type": "display_data"
    },
    {
     "name": "stdout",
     "output_type": "stream",
     "text": [
      "Estimated profit based trading model performed better for INFY\n",
      "Profit/Loss from prediction based trading:  18982.97\n",
      "Profit/Loss from estimation based trading:  21630.3\n"
     ]
    },
    {
     "data": {
      "image/png": "[encoded data removed]",
      "text/plain": [
       "<Figure size 360x144 with 1 Axes>"
      ]
     },
     "metadata": {
      "needs_background": "light"
     },
     "output_type": "display_data"
    },
    {
     "name": "stdout",
     "output_type": "stream",
     "text": [
      "Prediction based trading model performed better for JSWSTEEL\n",
      "Profit/Loss from prediction based trading:  13263.55\n",
      "Profit/Loss from estimation based trading:  6604.16\n"
     ]
    },
    {
     "data": {
      "image/png": "[encoded data removed]",
      "text/plain": [
       "<Figure size 360x144 with 1 Axes>"
      ]
     },
     "metadata": {
      "needs_background": "light"
     },
     "output_type": "display_data"
    },
    {
     "name": "stdout",
     "output_type": "stream",
     "text": [
      "Estimated profit based trading model performed better for KOTAKBANK\n",
      "Profit/Loss from prediction based trading:  25439.76\n",
      "Profit/Loss from estimation based trading:  37664.46\n"
     ]
    },
    {
     "data": {
      "image/png": "[encoded data removed]",
      "text/plain": [
       "<Figure size 360x144 with 1 Axes>"
      ]
     },
     "metadata": {
      "needs_background": "light"
     },
     "output_type": "display_data"
    },
    {
     "name": "stdout",
     "output_type": "stream",
     "text": [
      "Estimated profit based trading model performed better for LT\n",
      "Profit/Loss from prediction based trading:  -2751.24\n",
      "Profit/Loss from estimation based trading:  -447.59\n"
     ]
    },
    {
     "data": {
      "image/png": "[encoded data removed]",
      "text/plain": [
       "<Figure size 360x144 with 1 Axes>"
      ]
     },
     "metadata": {
      "needs_background": "light"
     },
     "output_type": "display_data"
    },
    {
     "name": "stdout",
     "output_type": "stream",
     "text": [
      "Prediction based trading model performed better for M&M\n",
      "Profit/Loss from prediction based trading:  -2058.9\n",
      "Profit/Loss from estimation based trading:  -11439.47\n"
     ]
    },
    {
     "data": {
      "image/png": "[encoded data removed]",
      "text/plain": [
       "<Figure size 360x144 with 1 Axes>"
      ]
     },
     "metadata": {
      "needs_background": "light"
     },
     "output_type": "display_data"
    },
    {
     "name": "stdout",
     "output_type": "stream",
     "text": [
      "Estimated profit based trading model performed better for MARUTI\n",
      "Profit/Loss from prediction based trading:  -1990.1\n",
      "Profit/Loss from estimation based trading:  -1490.1\n"
     ]
    },
    {
     "data": {
      "image/png": "[encoded data removed]",
      "text/plain": [
       "<Figure size 360x144 with 1 Axes>"
      ]
     },
     "metadata": {
      "needs_background": "light"
     },
     "output_type": "display_data"
    },
    {
     "name": "stdout",
     "output_type": "stream",
     "text": [
      "Estimated profit based trading model performed better for NTPC\n",
      "Profit/Loss from prediction based trading:  16502.48\n",
      "Profit/Loss from estimation based trading:  24616.04\n"
     ]
    },
    {
     "data": {
      "image/png": "[encoded data removed]",
      "text/plain": [
       "<Figure size 360x144 with 1 Axes>"
      ]
     },
     "metadata": {
      "needs_background": "light"
     },
     "output_type": "display_data"
    },
    {
     "name": "stdout",
     "output_type": "stream",
     "text": [
      "Estimated profit based trading model performed better for NESTLEIND\n",
      "Profit/Loss from prediction based trading:  350.0\n",
      "Profit/Loss from estimation based trading:  941.71\n"
     ]
    },
    {
     "data": {
      "image/png": "[encoded data removed]",
      "text/plain": [
       "<Figure size 360x144 with 1 Axes>"
      ]
     },
     "metadata": {
      "needs_background": "light"
     },
     "output_type": "display_data"
    },
    {
     "name": "stdout",
     "output_type": "stream",
     "text": [
      "Prediction based trading model performed better for ONGC\n",
      "Profit/Loss from prediction based trading:  -16031.35\n",
      "Profit/Loss from estimation based trading:  -32412.95\n"
     ]
    },
    {
     "data": {
      "image/png": "[encoded data removed]",
      "text/plain": [
       "<Figure size 360x144 with 1 Axes>"
      ]
     },
     "metadata": {
      "needs_background": "light"
     },
     "output_type": "display_data"
    },
    {
     "name": "stdout",
     "output_type": "stream",
     "text": [
      "Estimated profit based trading model performed better for POWERGRID\n",
      "Profit/Loss from prediction based trading:  41637.48\n",
      "Profit/Loss from estimation based trading:  53664.11\n"
     ]
    },
    {
     "data": {
      "image/png": "[encoded data removed]",
      "text/plain": [
       "<Figure size 360x144 with 1 Axes>"
      ]
     },
     "metadata": {
      "needs_background": "light"
     },
     "output_type": "display_data"
    },
    {
     "name": "stdout",
     "output_type": "stream",
     "text": [
      "Estimated profit based trading model performed better for RELIANCE\n",
      "Profit/Loss from prediction based trading:  12171.54\n",
      "Profit/Loss from estimation based trading:  23161.8\n"
     ]
    },
    {
     "data": {
      "image/png": "[encoded data removed]",
      "text/plain": [
       "<Figure size 360x144 with 1 Axes>"
      ]
     },
     "metadata": {
      "needs_background": "light"
     },
     "output_type": "display_data"
    },
    {
     "name": "stdout",
     "output_type": "stream",
     "text": [
      "Estimated profit based trading model performed better for SBIN\n",
      "Profit/Loss from prediction based trading:  2129.69\n",
      "Profit/Loss from estimation based trading:  9341.14\n"
     ]
    },
    {
     "data": {
      "image/png": "[encoded data removed]",
      "text/plain": [
       "<Figure size 360x144 with 1 Axes>"
      ]
     },
     "metadata": {
      "needs_background": "light"
     },
     "output_type": "display_data"
    },
    {
     "name": "stdout",
     "output_type": "stream",
     "text": [
      "Estimated profit based trading model performed better for SUNPHARMA\n",
      "Profit/Loss from prediction based trading:  22238.67\n",
      "Profit/Loss from estimation based trading:  37387.13\n"
     ]
    },
    {
     "data": {
      "image/png": "[encoded data removed]",
      "text/plain": [
       "<Figure size 360x144 with 1 Axes>"
      ]
     },
     "metadata": {
      "needs_background": "light"
     },
     "output_type": "display_data"
    },
    {
     "name": "stdout",
     "output_type": "stream",
     "text": [
      "Prediction based trading model performed better for TCS\n",
      "Profit/Loss from prediction based trading:  15121.2\n",
      "Profit/Loss from estimation based trading:  14695.13\n"
     ]
    },
    {
     "data": {
      "image/png": "[encoded data removed]",
      "text/plain": [
       "<Figure size 360x144 with 1 Axes>"
      ]
     },
     "metadata": {
      "needs_background": "light"
     },
     "output_type": "display_data"
    },
    {
     "name": "stdout",
     "output_type": "stream",
     "text": [
      "Estimated profit based trading model performed better for TATACONSUM\n",
      "Profit/Loss from prediction based trading:  22915.08\n",
      "Profit/Loss from estimation based trading:  30293.79\n"
     ]
    },
    {
     "data": {
      "image/png": "[encoded data removed]",
      "text/plain": [
       "<Figure size 360x144 with 1 Axes>"
      ]
     },
     "metadata": {
      "needs_background": "light"
     },
     "output_type": "display_data"
    },
    {
     "name": "stdout",
     "output_type": "stream",
     "text": [
      "Estimated profit based trading model performed better for TATAMOTORS\n",
      "Profit/Loss from prediction based trading:  -27583.47\n",
      "Profit/Loss from estimation based trading:  -24169.87\n"
     ]
    },
    {
     "data": {
      "image/png": "[encoded data removed]",
      "text/plain": [
       "<Figure size 360x144 with 1 Axes>"
      ]
     },
     "metadata": {
      "needs_background": "light"
     },
     "output_type": "display_data"
    },
    {
     "name": "stdout",
     "output_type": "stream",
     "text": [
      "Estimated profit based trading model performed better for TATASTEEL\n",
      "Profit/Loss from prediction based trading:  -28611.28\n",
      "Profit/Loss from estimation based trading:  -24513.27\n"
     ]
    },
    {
     "data": {
      "image/png": "[encoded data removed]",
      "text/plain": [
       "<Figure size 360x144 with 1 Axes>"
      ]
     },
     "metadata": {
      "needs_background": "light"
     },
     "output_type": "display_data"
    },
    {
     "name": "stdout",
     "output_type": "stream",
     "text": [
      "Estimated profit based trading model performed better for TECHM\n",
      "Profit/Loss from prediction based trading:  -5226.6\n",
      "Profit/Loss from estimation based trading:  466.52\n"
     ]
    },
    {
     "data": {
      "image/png": "[encoded data removed]",
      "text/plain": [
       "<Figure size 360x144 with 1 Axes>"
      ]
     },
     "metadata": {
      "needs_background": "light"
     },
     "output_type": "display_data"
    },
    {
     "name": "stdout",
     "output_type": "stream",
     "text": [
      "Estimated profit based trading model performed better for TITAN\n",
      "Profit/Loss from prediction based trading:  24754.33\n",
      "Profit/Loss from estimation based trading:  25882.45\n"
     ]
    },
    {
     "data": {
      "image/png": "[encoded data removed]",
      "text/plain": [
       "<Figure size 360x144 with 1 Axes>"
      ]
     },
     "metadata": {
      "needs_background": "light"
     },
     "output_type": "display_data"
    },
    {
     "name": "stdout",
     "output_type": "stream",
     "text": [
      "Prediction based trading model performed better for UPL\n",
      "Profit/Loss from prediction based trading:  24124.12\n",
      "Profit/Loss from estimation based trading:  17109.1\n"
     ]
    },
    {
     "data": {
      "image/png": "[encoded data removed]",
      "text/plain": [
       "<Figure size 360x144 with 1 Axes>"
      ]
     },
     "metadata": {
      "needs_background": "light"
     },
     "output_type": "display_data"
    },
    {
     "name": "stdout",
     "output_type": "stream",
     "text": [
      "Estimated profit based trading model performed better for ULTRACEMCO\n",
      "Profit/Loss from prediction based trading:  -308.15\n",
      "Profit/Loss from estimation based trading:  -125.61\n"
     ]
    },
    {
     "data": {
      "image/png": "[encoded data removed]",
      "text/plain": [
       "<Figure size 360x144 with 1 Axes>"
      ]
     },
     "metadata": {
      "needs_background": "light"
     },
     "output_type": "display_data"
    },
    {
     "name": "stdout",
     "output_type": "stream",
     "text": [
      "Estimated profit based trading model performed better for WIPRO\n",
      "Profit/Loss from prediction based trading:  2068.1\n",
      "Profit/Loss from estimation based trading:  9098.97\n"
     ]
    },
    {
     "data": {
      "image/png": "[encoded data removed]",
      "text/plain": [
       "<Figure size 360x144 with 1 Axes>"
      ]
     },
     "metadata": {
      "needs_background": "light"
     },
     "output_type": "display_data"
    }
   ],
   "source": [
    "Predstrategy = 0\n",
    "EstimatedPLstrategy = 0\n",
    "clearloss = 0\n",
    "clearwin = 0\n",
    "TotalPredPL = 0\n",
    "TotalEstimatedProfitPL = 0\n",
    "stockcount = tickers.shape[0]\n",
    "for i in range(stockcount):\n",
    "    stock = str(tickers._get_value(i,\"Symbol\"))\n",
    "    ticker = dataprep(stock)\n",
    "    predictions = backtest(ticker, rf_best, predictors)\n",
    "    predictions_filtered = predictions[predictions['Std Dev'] < 5]\n",
    "    pd.set_option('mode.chained_assignment', None)\n",
    "    predictions_filtered['Pred Based P/L'] = predictions_filtered.apply(Pred_Based_PL, axis=1)\n",
    "    predictions_filtered['EP based P/L'] = predictions_filtered.apply(EP_Based_PL, axis=1)\n",
    "    PredPL = predictions_filtered['Pred Based P/L'].sum()\n",
    "    EstimatedProfitPL = predictions_filtered['EP based P/L'].sum()\n",
    "    TotalPredPL = TotalPredPL+PredPL\n",
    "    TotalEstimatedProfitPL = TotalEstimatedProfitPL+EstimatedProfitPL\n",
    "    if (PredPL<0) & (EstimatedProfitPL>0):\n",
    "        clearloss = clearloss+1\n",
    "    elif (PredPL>0) & (EstimatedProfitPL<0):\n",
    "        clearwin = clearwin + 1\n",
    "    else:\n",
    "        0\n",
    "        \n",
    "    if PredPL > EstimatedProfitPL:\n",
    "        print(\"Prediction based trading model performed better for\", str(stock))\n",
    "        Predstrategy = Predstrategy+1\n",
    "    elif EstimatedProfitPL > PredPL:\n",
    "        print(\"Estimated profit based trading model performed better for\", str(stock))\n",
    "        EstimatedPLstrategy = EstimatedPLstrategy+1\n",
    "    else:\n",
    "        print(\"Both models performed the same for\", str(stock))\n",
    "    print(\"Profit/Loss from prediction based trading: \", str(round(PredPL,2)))\n",
    "    print(\"Profit/Loss from estimation based trading: \", str(round(EstimatedProfitPL,2)))\n",
    "    x = [\"Prediction Based Trading\", \"Estimation Based Trading\"]\n",
    "    y = [PredPL, EstimatedProfitPL]\n",
    "    c = ['DarkCyan','Orange']\n",
    "    plt.figure(figsize=(5,2))\n",
    "    plt.barh(x,y, color=c, height = 0.4)\n",
    "    plt.show()"
   ]
  },
  {
   "cell_type": "code",
   "execution_count": 85,
   "id": "be5d0f61",
   "metadata": {},
   "outputs": [
    {
     "name": "stdout",
     "output_type": "stream",
     "text": [
      "Estimated Profit based trading model bettered Prediction based trading model by Rs.165316.92\n",
      "11 out of 48 stocks performed better with prediction based trading\n",
      "37 out of 48 stocks performed better with estimation based trading\n",
      "4 stocks incurred losses from prediction based trading where estimation based trading would generate profits\n",
      "1 stocks generated profits from prediction based trading where estimation based trading would incur losses\n"
     ]
    }
   ],
   "source": [
    "stockcount = tickers.shape[0]\n",
    "scenario1 = TotalPredPL-TotalEstimatedProfitPL\n",
    "scenario2 = TotalEstimatedProfitPL-TotalPredPL\n",
    "if TotalPredPL > TotalEstimatedProfitPL:\n",
    "    print(\"Prediction based trading model bettered Estimated Profit based trading model by Rs.\"+str(round(scenario1,2)))\n",
    "else:\n",
    "    print(\"Estimated Profit based trading model bettered Prediction based trading model by Rs.\"+str(round(scenario2,2)))\n",
    "    \n",
    "print(str(Predstrategy)+\" out of \"+str(stockcount)+\" stocks performed better with prediction based trading\")\n",
    "print(str(EstimatedPLstrategy)+\" out of \"+str(stockcount)+\" stocks performed better with estimation based trading\")\n",
    "print(str(clearloss)+\" stocks incurred losses from prediction based trading where estimation based trading would generate profits\")\n",
    "print(str(clearwin)+\" stocks generated profits from prediction based trading where estimation based trading would incur losses\")"
   ]
  }
 ],
 "metadata": {
  "kernelspec": {
   "display_name": "Python 3 (ipykernel)",
   "language": "python",
   "name": "python3"
  },
  "language_info": {
   "codemirror_mode": {
    "name": "ipython",
    "version": 3
   },
   "file_extension": ".py",
   "mimetype": "text/x-python",
   "name": "python",
   "nbconvert_exporter": "python",
   "pygments_lexer": "ipython3",
   "version": "3.9.12"
  }
 },
 "nbformat": 4,
 "nbformat_minor": 5
}
